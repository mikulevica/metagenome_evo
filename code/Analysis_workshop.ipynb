{
 "cells": [
  {
   "cell_type": "code",
   "execution_count": null,
   "id": "fca3c7bb-4b24-4e9e-b9c9-4dcd0618336e",
   "metadata": {},
   "outputs": [],
   "source": [
    "%load_ext autoreload\n",
    "%autoreload 2"
   ]
  },
  {
   "cell_type": "markdown",
   "id": "cb03f85a-a458-4860-8975-e253f2140ba8",
   "metadata": {},
   "source": [
    "# Module imports"
   ]
  },
  {
   "cell_type": "code",
   "execution_count": null,
   "id": "07ca93df-6666-4ddf-9f8e-34a1b04000d4",
   "metadata": {},
   "outputs": [],
   "source": [
    "import pandas as pd\n",
    "import numpy as np\n",
    "import seaborn as sns\n",
    "import random\n",
    "import torch\n",
    "import pickle\n",
    "import math\n",
    "import matplotlib.pyplot as plt\n",
    "from matplotlib.colors import Normalize\n",
    "from scipy.special import kl_div\n",
    "from scipy.stats import mannwhitneyu\n",
    "from tqdm import tqdm\n",
    "from Bio import SeqIO\n",
    "from Bio.Seq import Seq\n",
    "import re\n",
    "from analysis_utils import convert_data, get_overlap_info, create_data_frame\n",
    "from analysis_utils import create_collection_orthologs, ortholog_overlap, create_data_frame_ortho\n",
    "from analysis_utils import get_pre_rec_data, read_fasta, print_results"
   ]
  },
  {
   "cell_type": "code",
   "execution_count": null,
   "id": "5b57871a-9dad-4868-bbb1-cf5370749ff5",
   "metadata": {},
   "outputs": [],
   "source": [
    "from generating_utils import remove_gaps"
   ]
  },
  {
   "cell_type": "code",
   "execution_count": null,
   "id": "85d8ce11-b691-40aa-ba6c-d35337b3432b",
   "metadata": {},
   "outputs": [],
   "source": [
    "color1='#68e7a9'\n",
    "color2='#fe6100'\n",
    "color3='#dc267f'\n",
    "color4='#788ef0'"
   ]
  },
  {
   "cell_type": "markdown",
   "id": "dc06aa9f-0999-4a3e-bf52-bd50310ce90b",
   "metadata": {},
   "source": [
    "# Set up"
   ]
  },
  {
   "cell_type": "markdown",
   "id": "1418afe4-d08e-45c7-bb44-b8c8192bc16c",
   "metadata": {
    "jp-MarkdownHeadingCollapsed": true
   },
   "source": [
    "## 10 bp"
   ]
  },
  {
   "cell_type": "code",
   "execution_count": null,
   "id": "6fd74545-159a-4110-b1ed-415aa18c6946",
   "metadata": {},
   "outputs": [],
   "source": [
    "# load generated sequence scores\n",
    "with open(\"scores_10bp_seqs_500.pkl\", \"rb\") as file:\n",
    "    c10 = pickle.load(file)\n",
    "with open(\"scores_10bp_heads.pkl\", \"rb\") as file:\n",
    "    c10h = pickle.load(file)"
   ]
  },
  {
   "cell_type": "code",
   "execution_count": null,
   "id": "497e2177-8a59-45bf-ada3-9589530eadcb",
   "metadata": {},
   "outputs": [],
   "source": [
    "with open(\"scores_10bp_seqs_500_2.pkl\", \"rb\") as file:\n",
    "    c10_2 = pickle.load(file)\n",
    "with open(\"scores_10bp_heads_2.pkl\", \"rb\") as file:\n",
    "    c10h_2 = pickle.load(file)"
   ]
  },
  {
   "cell_type": "code",
   "execution_count": null,
   "id": "dbd873d9-fdb5-44be-bfee-aad116760bbd",
   "metadata": {},
   "outputs": [],
   "source": [
    "filename='path to EColiK12.gbff'\n",
    "record = SeqIO.read(filename, \"genbank\")\n",
    "genome_coli=record.seq\n",
    "filename='path to BacSub.gbff'\n",
    "record = SeqIO.read(filename, \"genbank\")\n",
    "genome_sub=record.seq\n",
    "filename='path to AE006468.gb'\n",
    "record = SeqIO.read(filename, \"genbank\")\n",
    "genome_nella=record.seq"
   ]
  },
  {
   "cell_type": "code",
   "execution_count": null,
   "id": "81cc14ad-9d5f-4241-95d5-c4f17051d689",
   "metadata": {},
   "outputs": [],
   "source": [
    "# load metadata\n",
    "ht_meta=pd.read_csv(\"metadata_10bp_ht.csv\")\n",
    "seq_meta=pd.read_csv(\"metadata_10bp_seqs.csv\")"
   ]
  },
  {
   "cell_type": "code",
   "execution_count": null,
   "id": "d34bcb1f-361b-47b5-8d90-8bfc99e5280e",
   "metadata": {},
   "outputs": [],
   "source": [
    "ht_meta_2=pd.read_csv(\"metadata_2_10bp_ht.csv\")\n",
    "seq_meta_2=pd.read_csv(\"metadata_2_10bp_seqs.csv\")"
   ]
  },
  {
   "cell_type": "code",
   "execution_count": null,
   "id": "3bcdb21e-6269-46b0-be81-347bef765600",
   "metadata": {},
   "outputs": [],
   "source": [
    "def make_ind_dict(df_h,df_s):\n",
    "    '''\n",
    "    takes up metadata to make dictionaries used in analysis\n",
    "    '''\n",
    "    ind_th={}\n",
    "    th_ind={}\n",
    "    # seq_ind={}\n",
    "    s_ind={}\n",
    "    for i in range(len(df_h)):\n",
    "        ind_th[df_h.iloc[i][\"index\"]]=(df_h.iloc[i][\"Intersection\"],df_h.iloc[i][\"coordinate\"])\n",
    "        th_ind[(df_h.iloc[i][\"Intersection\"],df_h.iloc[i][\"coordinate\"])]=df_h.iloc[i][\"index\"]\n",
    "\n",
    "    for i in tqdm(range(len(df_s)), desc=\"Processing tasks\", unit=\"task\"):\n",
    "        s_ind[(df_s.iloc[i][\"Intersection\"],df_s.iloc[i][\"head\"],df_s.iloc[i][\"tail\"])]=df_s.iloc[i][\"index\"]\n",
    "                        \n",
    "    return ind_th, th_ind, s_ind"
   ]
  },
  {
   "cell_type": "code",
   "execution_count": null,
   "id": "884ca8b5-acdd-4652-9b7f-4d1bd3f24a5d",
   "metadata": {},
   "outputs": [],
   "source": [
    "ind_th, ind_th_fl, s_ind=make_ind_dict(ht_meta,seq_meta)"
   ]
  },
  {
   "cell_type": "code",
   "execution_count": null,
   "id": "0023d986-26fd-421b-88ad-a07856dfdc03",
   "metadata": {},
   "outputs": [],
   "source": [
    "ind_th_2, ind_th_fl_2, s_ind_2=make_ind_dict(ht_meta_2,seq_meta_2)"
   ]
  },
  {
   "cell_type": "code",
   "execution_count": null,
   "id": "9656d258-2bac-4a6d-921b-ab2ff9401f46",
   "metadata": {},
   "outputs": [],
   "source": [
    "# extract sequence pieces\n",
    "tails={}\n",
    "genomes={\"coli\":genome_coli, \"sub\":genome_sub, \"nella\":genome_nella}\n",
    "for i in range(len(ht_meta)):\n",
    "    k=ht_meta.iloc[i][\"coordinate\"]\n",
    "    tails[(ht_meta.iloc[i][\"Intersection\"],k)]=genomes[ht_meta.iloc[i][\"organism\"]][k+10:k+510]\n",
    "\n",
    "heads={}\n",
    "genomes={\"coli\":genome_coli, \"sub\":genome_sub, \"nella\":genome_nella}\n",
    "for i in range(len(ht_meta)):\n",
    "    k=ht_meta.iloc[i][\"coordinate\"]\n",
    "    heads[(ht_meta.iloc[i][\"Intersection\"],k)]=genomes[ht_meta.iloc[i][\"organism\"]][k-990:k+10]"
   ]
  },
  {
   "cell_type": "code",
   "execution_count": null,
   "id": "af2276a8-5c71-40a2-ace2-9aec3eccc096",
   "metadata": {},
   "outputs": [],
   "source": [
    "tails_2={}\n",
    "genomes={\"coli\":genome_coli, \"sub\":genome_sub, \"nella\":genome_nella}\n",
    "for i in range(len(ht_meta_2)):\n",
    "    k=ht_meta_2.iloc[i][\"coordinate\"]\n",
    "    tails_2[(ht_meta_2.iloc[i][\"Intersection\"],k)]=genomes[ht_meta_2.iloc[i][\"organism\"]][k+10:k+510]\n",
    "    \n",
    "heads_2={}\n",
    "for i in range(len(ht_meta_2)):\n",
    "    k=ht_meta_2.iloc[i][\"coordinate\"]\n",
    "    heads_2[(ht_meta_2.iloc[i][\"Intersection\"],k)]=genomes[ht_meta_2.iloc[i][\"organism\"]][k-990:k+10]\n"
   ]
  },
  {
   "cell_type": "markdown",
   "id": "0957ca23-80c1-4120-b541-1b5e1a16776d",
   "metadata": {
    "jp-MarkdownHeadingCollapsed": true
   },
   "source": [
    "## Ortholog genes"
   ]
  },
  {
   "cell_type": "code",
   "execution_count": null,
   "id": "f71181bf-2a30-4216-bea9-04f021423a6c",
   "metadata": {},
   "outputs": [],
   "source": [
    "# load aligned records\n",
    "aligned_records_clp=read_fasta(\"picked_clpA.txt\")\n",
    "aligned_aa_clp=read_fasta(\"picked_clpA_prot.txt\")\n",
    "aligned_records_pro=read_fasta(\"picked_proRS.txt\")\n",
    "aligned_aa_pro=read_fasta(\"picked_prot_proRS.txt\")"
   ]
  },
  {
   "cell_type": "code",
   "execution_count": null,
   "id": "3f9f794c-4163-4eaa-a458-9d6a65dcea2f",
   "metadata": {},
   "outputs": [],
   "source": [
    "# load base-pair scores for analysis\n",
    "with open(\"scores_clpA_seq.pkl\", \"rb\") as file:\n",
    "    clp_scores = pickle.load(file)\n",
    "    \n",
    "with open(\"scores_clpA_head.pkl\", \"rb\") as file:\n",
    "    clp_heads = pickle.load(file)\n",
    "\n",
    "\n",
    "with open(\"scores_proRS_seq.pkl\", \"rb\") as file:\n",
    "    pro_scores = pickle.load(file)\n",
    "    \n",
    "with open(\"scores_proRS_head.pkl\", \"rb\") as file:\n",
    "    pro_heads = pickle.load(file)"
   ]
  },
  {
   "cell_type": "markdown",
   "id": "36046c1e-1f2d-4750-8e53-92be1ee4e5f0",
   "metadata": {},
   "source": [
    "# 10 bp analysis"
   ]
  },
  {
   "cell_type": "markdown",
   "id": "07f0934a-933b-4b7d-8511-9a5d5aa83234",
   "metadata": {
    "jp-MarkdownHeadingCollapsed": true
   },
   "source": [
    "## numerical"
   ]
  },
  {
   "cell_type": "code",
   "execution_count": null,
   "id": "72565b07-5002-45fc-b5d5-49900382fa84",
   "metadata": {},
   "outputs": [],
   "source": [
    "collection_500=convert_data(c10h,c10,ind_th_fl,s_ind,seq_meta)"
   ]
  },
  {
   "cell_type": "code",
   "execution_count": null,
   "id": "7b8767c1-aeb5-49d6-8eb7-ab07e5c4ee12",
   "metadata": {},
   "outputs": [],
   "source": [
    "overlap_data=get_overlap_info(list(collection_500.keys()),tails,heads,500)"
   ]
  },
  {
   "cell_type": "code",
   "execution_count": null,
   "id": "dd4d8241-0b4b-473d-aadf-5ca45a6bc621",
   "metadata": {},
   "outputs": [],
   "source": [
    "dataFrame_500=create_data_frame(collection_500,overlap_data,mbp=500)"
   ]
  },
  {
   "cell_type": "code",
   "execution_count": null,
   "id": "219be70d-d5ca-47e7-ba9f-0c844ca2ede1",
   "metadata": {},
   "outputs": [],
   "source": [
    "df_500_filt=dataFrame_500[dataFrame_500[\"tail_id_200\"]<1]"
   ]
  },
  {
   "cell_type": "code",
   "execution_count": null,
   "id": "8c2531fe-f99d-432a-a26c-79aae1191def",
   "metadata": {},
   "outputs": [],
   "source": [
    "print_results(df_500_filt)"
   ]
  },
  {
   "cell_type": "code",
   "execution_count": null,
   "id": "1becdaf4-677c-42ae-a6cc-6689f2d20888",
   "metadata": {},
   "outputs": [],
   "source": [
    "collection_500_2=convert_data(c10h_2,c10_2,ind_th_fl_2,s_ind_2,seq_meta_2)"
   ]
  },
  {
   "cell_type": "code",
   "execution_count": null,
   "id": "d12e5b41-0ecb-4e05-8b87-65ae893331ad",
   "metadata": {},
   "outputs": [],
   "source": [
    "overlap_data_2=get_overlap_info(list(collection_500_2.keys()),tails_2,heads_2,500)"
   ]
  },
  {
   "cell_type": "code",
   "execution_count": null,
   "id": "7c16b99c-ff24-40ec-8326-6debf78ea800",
   "metadata": {},
   "outputs": [],
   "source": [
    "dataFrame_500_2=create_data_frame(collection_500_2,overlap_data_2,mbp=500)"
   ]
  },
  {
   "cell_type": "code",
   "execution_count": null,
   "id": "7b8fda28-d363-4eda-8cfa-d33b7d4e182d",
   "metadata": {},
   "outputs": [],
   "source": [
    "df_500_filt_2=dataFrame_500_2[dataFrame_500_2[\"tail_id_200\"]<1]"
   ]
  },
  {
   "cell_type": "code",
   "execution_count": null,
   "id": "81a63956-00bd-4983-a1c7-df90d7a63e96",
   "metadata": {},
   "outputs": [],
   "source": [
    "print_results(df_500_filt_2)"
   ]
  },
  {
   "cell_type": "code",
   "execution_count": null,
   "id": "cbe53dda-3c68-475a-b0a3-1050b198db83",
   "metadata": {},
   "outputs": [],
   "source": [
    "df_comb_filt = pd.concat([df_500_filt, df_500_filt_2], ignore_index=True)"
   ]
  },
  {
   "cell_type": "code",
   "execution_count": null,
   "id": "44aba10a-8b11-4d13-9034-5c7b0d868170",
   "metadata": {},
   "outputs": [],
   "source": [
    "print_results(df_comb_filt)"
   ]
  },
  {
   "cell_type": "code",
   "execution_count": null,
   "id": "b46953c1-fd81-463e-9f47-e8af7d75efae",
   "metadata": {},
   "outputs": [],
   "source": [
    "collection_long=convert_data(c10hh,c10_long,ind_th_fl,s_ind,seq_meta)"
   ]
  },
  {
   "cell_type": "code",
   "execution_count": null,
   "id": "3fe07cd8-db8d-4c46-b418-8b0f7ec3b71c",
   "metadata": {},
   "outputs": [],
   "source": [
    "dataFrame_long=create_data_frame(collection_long,overlap_data,mbp=800)"
   ]
  },
  {
   "cell_type": "code",
   "execution_count": null,
   "id": "024e418d-24e8-4574-afb2-b41e2720a915",
   "metadata": {},
   "outputs": [],
   "source": [
    "df_long_filt=dataFrame_long[dataFrame_long[\"tail_id_200\"]<1]"
   ]
  },
  {
   "cell_type": "code",
   "execution_count": null,
   "id": "8d851262-efc1-4a62-afc2-4948205ae912",
   "metadata": {},
   "outputs": [],
   "source": [
    "print_results(df_long_filt)"
   ]
  },
  {
   "cell_type": "code",
   "execution_count": null,
   "id": "ce49f157-626b-41ef-96fc-af2bd281bd4a",
   "metadata": {},
   "outputs": [],
   "source": [
    "pd.set_option('display.max_columns', None)"
   ]
  },
  {
   "cell_type": "code",
   "execution_count": null,
   "id": "50ea44b3-3c2f-425c-8480-60e560a74e0c",
   "metadata": {},
   "outputs": [],
   "source": [
    "keys=[\"comparison_200\",\"comparison_head\",\"comparison_head_200\",\"RCM_head\",\"RCM_tail\"]\n",
    "for k in keys:\n",
    "    output={\"now correct\":0, \"now wrong\":0,\n",
    "            \"confidence up correct\":0, \"confidence down correct\":0,\n",
    "            \"confidence up wrong\":0, \"confidence down wrong\":0}\n",
    "    for i in range(len(df_500_filt)):\n",
    "        assert df_500_filt.iloc[i][\"ID\"]==df_long_filt.iloc[i][\"ID\"]\n",
    "        if df_500_filt.iloc[i][k]!=df_long_filt.iloc[i][k]:\n",
    "            if df_500_filt.iloc[i][k]:\n",
    "                output[\"now wrong\"]+=1\n",
    "            else:\n",
    "                output[\"now correct\"]+=1\n",
    "\n",
    "        else:\n",
    "            if df_500_filt.iloc[i][k]:\n",
    "                if df_500_filt.iloc[i][k+\"_n\"]>df_long_filt.iloc[i][k+\"_n\"]:\n",
    "                     output[\"confidence down correct\"]+=1\n",
    "                else:\n",
    "                     output[\"confidence up correct\"]+=1\n",
    "            else:\n",
    "                if df_500_filt.iloc[i][k+\"_n\"]>df_long_filt.iloc[i][k+\"_n\"]:\n",
    "                    output[\"confidence down wrong\"]+=1\n",
    "                else:\n",
    "                    output[\"confidence up wrong\"]+=1\n",
    "    print(k,output)"
   ]
  },
  {
   "cell_type": "code",
   "execution_count": null,
   "id": "a7846ad2-0560-4773-a542-55f6a27a33be",
   "metadata": {},
   "outputs": [],
   "source": [
    "keys=[\"comparison_200\",\"comparison_head\",\"comparison_head_200\",\"RCM_head\",\"RCM_tail\"]\n",
    "for k in keys:\n",
    "    output={\"now correct\":0, \"now wrong\":0,\n",
    "            \"confidence up correct\":0, \"confidence down correct\":0,\n",
    "            \"confidence up wrong\":0, \"confidence down wrong\":0}\n",
    "    for i in tqdm(range(len(df_500_filt)), desc=\"Processing tasks\", unit=\"task\"):\n",
    "        assert df_500_filt.iloc[i][\"ID\"]==df_long_filt.iloc[i][\"ID\"]\n",
    "        b1=df_500_filt.iloc[i][k]\n",
    "        v1=df_500_filt.iloc[i][k+\"_n\"]\n",
    "        b2=df_long_filt.iloc[i][k]\n",
    "        v2=df_long_filt.iloc[i][k+\"_n\"]\n",
    "        if b1!=b2:\n",
    "            if b1:\n",
    "                output[\"now wrong\"]+=1\n",
    "            else:\n",
    "                output[\"now correct\"]+=1\n",
    "\n",
    "        else:\n",
    "            if b1:\n",
    "                if v1>v2:\n",
    "                     output[\"confidence down correct\"]+=1\n",
    "                else:\n",
    "                     output[\"confidence up correct\"]+=1\n",
    "            else:\n",
    "                if v1>v2:\n",
    "                    output[\"confidence down wrong\"]+=1\n",
    "                else:\n",
    "                    output[\"confidence up wrong\"]+=1\n",
    "    print(k,output)"
   ]
  },
  {
   "cell_type": "code",
   "execution_count": null,
   "id": "f5a3cb07-e6b8-41bd-91a6-5e26ab8e4dff",
   "metadata": {},
   "outputs": [],
   "source": [
    "def tail_with_move(collection,t_data):\n",
    "    overview={\n",
    "            \"ID\":[],\n",
    "            \"tail_id_200\":[], \"tail_id\":[], \"tail_overlap\":[],\n",
    "                    \n",
    "            \"tail1_score\":[], \"tail2_score\":[], \n",
    "            \"tail1_score_200\":[], \"tail2_score_200\":[],\n",
    "            \"comparison_all\" : [], \"comparison_200\":[]\n",
    "        }\n",
    "\n",
    "    for index, ID in tqdm(enumerate(collection.keys()), total=len(collection.keys())):\n",
    "        overview[\"ID\"].append(ID)\n",
    "\n",
    "        overview[\"tail_id_200\"].append(t_data[ID][0])\n",
    "        overview[\"tail_id\"].append(t_data[ID][1])\n",
    "        overview[\"tail_overlap\"].append(t_data[ID][2])\n",
    "        array=collection[ID][0][0][1000+t_data[ID][2]:1000+500]\n",
    "        overview[\"tail1_score\"].append(math.exp(np.mean(np.log(array))))\n",
    "        overview[\"tail1_score_200\"].append(math.exp(np.mean(np.log(array[:200]))))\n",
    "        array=collection[ID][1][0][1000+t_data[ID][2]:1000+500]\n",
    "        overview[\"tail2_score\"].append(math.exp(np.mean(np.log(array))))\n",
    "        overview[\"tail2_score_200\"].append(math.exp(np.mean(np.log(array[:200]))))\n",
    "\n",
    "        overview[\"comparison_all\"].append(overview[\"tail1_score\"][index]>overview[\"tail2_score\"][index])\n",
    "        overview[\"comparison_200\"].append(overview[\"tail1_score_200\"][index]>overview[\"tail2_score_200\"][index])       \n",
    "    output=pd.DataFrame(overview)\n",
    "\n",
    "\n",
    "    return output"
   ]
  },
  {
   "cell_type": "code",
   "execution_count": null,
   "id": "a6c8278f-4502-4484-94f9-f4da5d83043a",
   "metadata": {},
   "outputs": [],
   "source": [
    "df_tail_move=tail_with_move(collection_500,tail_data)\n",
    "df_tail_move=df_tail_move[df_tail_move[\"tail_id_200\"]<1]\n",
    "print_results(df_tail_move)"
   ]
  },
  {
   "cell_type": "code",
   "execution_count": null,
   "id": "bbecdcba-c0df-4e52-bd88-3ef13a9817fa",
   "metadata": {},
   "outputs": [],
   "source": [
    "len(df_500_filt[df_500_filt[\"tail_id\"]>0.3])"
   ]
  },
  {
   "cell_type": "code",
   "execution_count": null,
   "id": "4cec0bb7-9276-4e06-b912-f62f8fc29b60",
   "metadata": {},
   "outputs": [],
   "source": [
    "print_results(df_500_filt[df_500_filt[\"tail_id\"]>0.3])"
   ]
  },
  {
   "cell_type": "code",
   "execution_count": null,
   "id": "2c3f6e4f-f140-434f-a157-f3258bfe540b",
   "metadata": {},
   "outputs": [],
   "source": [
    "print(len(df_500_filt[df_500_filt[\"head_sc\"]<0.3]))\n",
    "print_results(df_500_filt[df_500_filt[\"head_sc\"]<0.3])"
   ]
  },
  {
   "cell_type": "code",
   "execution_count": null,
   "id": "48056342-af7f-47a9-9993-77a574464a57",
   "metadata": {},
   "outputs": [],
   "source": [
    "df_500_filt[(df_500_filt[\"comparison_head_200\"]==False)&(df_500_filt[\"head_overlap\"]>20)]"
   ]
  },
  {
   "cell_type": "markdown",
   "id": "6f9ea8c1-3c6a-476d-bcc8-03190212560c",
   "metadata": {},
   "source": [
    "## graphical"
   ]
  },
  {
   "cell_type": "code",
   "execution_count": null,
   "id": "362fd071-9d6f-4be2-9a84-bf98f869c1b5",
   "metadata": {},
   "outputs": [],
   "source": [
    "def get_pre_rec_data_general(df_data, a, k1,k2):\n",
    "    pre=[]\n",
    "    ret=[]\n",
    "    for i in a:\n",
    "        df=df_data[df_data[k1]>i]\n",
    "        pre.append(df[k2].to_list().count(True)/len(df))\n",
    "        ret.append(len(df))\n",
    "    return pre, ret"
   ]
  },
  {
   "cell_type": "markdown",
   "id": "9d102ef5-b539-4704-a16c-6fcb317b8732",
   "metadata": {
    "jp-MarkdownHeadingCollapsed": true
   },
   "source": [
    "### Head score (context)"
   ]
  },
  {
   "cell_type": "code",
   "execution_count": null,
   "id": "3914b105-67fa-45e0-950a-2f43406e2d52",
   "metadata": {},
   "outputs": [],
   "source": [
    "plt.figure(figsize=(8, 6))\n",
    "sns.set(style='white')\n",
    "ax=sns.kdeplot(data=df_500_filt, x='head_sc', hue=\"RCM_head\", palette=\"magma\",common_norm=False, fill=True)\n",
    "ax.set_xlabel('Score of the head')\n",
    "legend = ax.get_legend()\n",
    "legend.set_title(\"Reverse Delta\")\n",
    "plt.show()"
   ]
  },
  {
   "cell_type": "code",
   "execution_count": null,
   "id": "b2e3afba-b674-4472-bbb6-08e133088574",
   "metadata": {},
   "outputs": [],
   "source": [
    "plt.figure(figsize=(8, 5))\n",
    "sns.boxplot(data=df_500_filt, x='RCM_head', y='head_sc', palette=\"magma\")\n",
    "plt.xlabel('Correctness of Reverse Delta prediction')\n",
    "plt.ylabel('Score of the head')\n",
    "plt.show()"
   ]
  },
  {
   "cell_type": "markdown",
   "id": "9a2111df-c348-4e13-b82a-7aaf254f331d",
   "metadata": {
    "jp-MarkdownHeadingCollapsed": true
   },
   "source": [
    "### Confidence"
   ]
  },
  {
   "cell_type": "code",
   "execution_count": null,
   "id": "39ae4e6c-d0ad-4ea5-90e5-cfca8eff3e58",
   "metadata": {},
   "outputs": [],
   "source": [
    "plt.figure(figsize=(8, 5))\n",
    "sns.boxplot(data=df_500_filt, x='comparison_head_200', y='comparison_head_200_n', palette=\"magma\")\n",
    "plt.xlabel('Correctness of Reverse Comparison Prediction')\n",
    "plt.ylabel('Confidence of the model')\n",
    "plt.show()"
   ]
  },
  {
   "cell_type": "code",
   "execution_count": null,
   "id": "39223120-d160-4e18-b396-b4540105b60d",
   "metadata": {},
   "outputs": [],
   "source": [
    "plt.figure(figsize=(8, 5))\n",
    "sns.boxplot(data=df_500_filt, x='comparison_200', y='comparison_200_n', palette=\"magma\")\n",
    "plt.xlabel('Correctness of Forward Comparison Prediction')\n",
    "plt.ylabel('Confidence of the model')\n",
    "plt.show()"
   ]
  },
  {
   "cell_type": "code",
   "execution_count": null,
   "id": "2c937d89-1096-4e84-8dba-386efd5d11c1",
   "metadata": {},
   "outputs": [],
   "source": [
    "a=[0,0.05,0.1,0.15,0.2,0.25,0.3,0.35,0.4,0.45,0.5,0.6]\n",
    "pre_1,ret_1=get_pre_rec_data_general(df_500_filt,a,\"comparison_head_200_n\",\"comparison_head_200\")\n",
    "pre_2,ret_2=get_pre_rec_data_general(df_500_filt,a,\"RCM_head_n\",\"RCM_head\")\n",
    "pre_3,ret_3=get_pre_rec_data_general(df_500_filt,a,\"RCM_tail_n\",\"RCM_tail\")"
   ]
  },
  {
   "cell_type": "code",
   "execution_count": null,
   "id": "eb508b8d-d37b-4d42-9162-a0f2b63edaab",
   "metadata": {},
   "outputs": [],
   "source": [
    "plt.figure(figsize=(8, 5))\n",
    "plt.plot(a, pre_1, label='Reverse Comparison', color='#dc267f')\n",
    "plt.plot(a, pre_2, label='Reverse Delta', color='#788ef0')\n",
    "plt.plot(a, pre_3, label='Forward Delta', color='#fe6100')\n",
    "plt.xlabel('Confidence Threshold')  # Replace with your x-axis label\n",
    "plt.ylabel('Accuracy')  # Replace with your y-axis label\n",
    "plt.legend()\n",
    "plt.show()"
   ]
  },
  {
   "cell_type": "code",
   "execution_count": null,
   "id": "6b40f36a-ddd9-4c3a-a2d0-d9867ba0990e",
   "metadata": {},
   "outputs": [],
   "source": [
    "plt.figure(figsize=(8, 5))\n",
    "plt.plot(a, np.array(ret_1)/len(df_500_filt), label='Reverse Comparison', color='#dc267f')\n",
    "plt.plot(a, np.array(ret_2)/len(df_500_filt), label='Reverse Delta', color='#788ef0')\n",
    "plt.plot(a, np.array(ret_3)/len(df_500_filt), label='Forward Delta', color='#fe6100')\n",
    "plt.xlabel('Confidence Threshold')  # Replace with your x-axis label\n",
    "plt.ylabel('Retention rate')  # Replace with your y-axis label\n",
    "plt.legend()\n",
    "plt.show()"
   ]
  },
  {
   "cell_type": "code",
   "execution_count": null,
   "id": "be9048f4-22ec-41a1-b5d0-4fb10dd3868f",
   "metadata": {},
   "outputs": [],
   "source": [
    "plt.figure(figsize=(8, 5))\n",
    "plt.plot(a, ret_1, label='Reverse Comparison', color='#dc267f')\n",
    "plt.plot(a, ret_2, label='Reverse Delta', color='#788ef0')\n",
    "plt.plot(a, ret_3, label='Forward Delta', color='#fe6100')\n",
    "plt.xlabel('Confidence Threshold')  # Replace with your x-axis label\n",
    "plt.ylabel('Retention rate')  # Replace with your y-axis label\n",
    "plt.legend()\n",
    "plt.show()"
   ]
  },
  {
   "cell_type": "markdown",
   "id": "e812596a-df4a-40c2-b0b7-017e2a448f4a",
   "metadata": {},
   "source": [
    "### Identity"
   ]
  },
  {
   "cell_type": "code",
   "execution_count": null,
   "id": "73dd1cd3-8d94-4723-aebf-a07b0bd9adc7",
   "metadata": {},
   "outputs": [],
   "source": [
    "a=[0.1,0.15,0.2,0.25,0.3,0.35,0.4,0.45,0.5,0.55,0.6]\n",
    "pre_i1,ret_i1=get_pre_rec_data_general(df_500_filt,a,\"tail_id_200\",\"comparison_head_200\")\n",
    "pre_i2,ret_i2=get_pre_rec_data_general(df_500_filt,a,\"tail_id_200\",\"RCM_head\")\n",
    "pre_i3,ret_i3=get_pre_rec_data_general(df_500_filt,a,\"tail_id_200\",\"comparison_200\")\n",
    "pre_i4,ret_i4=get_pre_rec_data_general(df_500_filt,a,\"tail_id_200\",\"comparison_all\")"
   ]
  },
  {
   "cell_type": "code",
   "execution_count": null,
   "id": "d504b5b3-680e-435d-a1e8-c1a79a055b5b",
   "metadata": {},
   "outputs": [],
   "source": [
    "plt.figure(figsize=(8, 5))\n",
    "plt.plot(a, pre_i4, label='Default Method', color='#68e7a9', linewidth=2)\n",
    "plt.plot(a, pre_i3, label='Forward Comparison', color='#fe6100',linewidth=2)\n",
    "plt.plot(a, pre_i1, label='Reverse Comparison', color='#dc267f',linewidth=2)\n",
    "plt.plot(a, pre_i2, label='Reverse Delta', color='#788ef0',linewidth=2)\n",
    "plt.xlabel('Tail Identity Threshold')  # Replace with your x-axis label\n",
    "plt.ylabel('Accuracy')  # Replace with your y-axis label\n",
    "# plt.xlim(0, 0.6)\n",
    "plt.legend()\n",
    "plt.show()"
   ]
  },
  {
   "cell_type": "code",
   "execution_count": null,
   "id": "9875a953-29b4-478c-9c01-b68d119665e1",
   "metadata": {},
   "outputs": [],
   "source": [
    "plt.figure(figsize=(8, 5))\n",
    "plt.plot(a, ret_i1, color='#dc267f')\n",
    "plt.xlabel('Tail Identity Threshold')  # Replace with your x-axis label\n",
    "plt.ylabel('Retention rate')  # Replace with your y-axis label\n",
    "# plt.legend()\n",
    "plt.show()"
   ]
  },
  {
   "cell_type": "markdown",
   "id": "55a1eb08-29aa-4cb0-9ed2-2ab4e935c229",
   "metadata": {},
   "source": [
    "# Ortholog genes analysis"
   ]
  },
  {
   "cell_type": "markdown",
   "id": "230162ec-edd2-4233-8d39-3acc326a6406",
   "metadata": {},
   "source": [
    "## numerical"
   ]
  },
  {
   "cell_type": "code",
   "execution_count": null,
   "id": "d7a9db32-7a23-4622-94db-0d47904df888",
   "metadata": {},
   "outputs": [],
   "source": [
    "clp_collection=create_collection_orthologs(clp_scores, clp_heads)\n",
    "pro_collection=create_collection_orthologs(pro_scores, pro_heads)"
   ]
  },
  {
   "cell_type": "code",
   "execution_count": null,
   "id": "02a5399a-9c05-451d-8f56-fcc6da9e79d7",
   "metadata": {},
   "outputs": [],
   "source": [
    "clp_tails=ortholog_overlap(aligned_aa_clp,aligned_records_clp)\n",
    "pro_tails=ortholog_overlap(aligned_aa_pro,aligned_records_pro)"
   ]
  },
  {
   "cell_type": "code",
   "execution_count": null,
   "id": "79a8e112-d227-45db-af66-b8629ce4a421",
   "metadata": {},
   "outputs": [],
   "source": [
    "clp_df=create_data_frame_ortho(clp_collection,clp_tails)"
   ]
  },
  {
   "cell_type": "code",
   "execution_count": null,
   "id": "c6bc5c47-4a2f-4b5b-b3ba-8e95bd8b6069",
   "metadata": {},
   "outputs": [],
   "source": [
    "print_results(clp_df)"
   ]
  },
  {
   "cell_type": "code",
   "execution_count": null,
   "id": "1c644363-d86a-4987-a205-e6034918cbee",
   "metadata": {},
   "outputs": [],
   "source": [
    "pro_df=create_data_frame_ortho(pro_collection,pro_tails)"
   ]
  },
  {
   "cell_type": "code",
   "execution_count": null,
   "id": "b74906f2-9584-43b3-90fc-244cf2ca8415",
   "metadata": {},
   "outputs": [],
   "source": [
    "print_results(pro_df)"
   ]
  },
  {
   "cell_type": "code",
   "execution_count": null,
   "id": "205e3c66-6dbd-441c-a682-81d71e937ce3",
   "metadata": {},
   "outputs": [],
   "source": [
    "combined_df = pd.concat([pro_df, clp_df], ignore_index=True)"
   ]
  },
  {
   "cell_type": "code",
   "execution_count": null,
   "id": "61ed6d97-ed1f-4a0c-b8f6-66f5759f2532",
   "metadata": {},
   "outputs": [],
   "source": [
    "print_results(combined_df)"
   ]
  },
  {
   "cell_type": "code",
   "execution_count": null,
   "id": "add55423-fc28-4445-898c-6f54f9c49ed7",
   "metadata": {},
   "outputs": [],
   "source": [
    "meta={}\n",
    "meta_fl={}\n",
    "counter=0\n",
    "for i in range(20):\n",
    "    for j in range(20):\n",
    "        meta[counter]=(i,j)\n",
    "        meta_fl[(i,j)]=counter\n",
    "        counter+=1"
   ]
  },
  {
   "cell_type": "code",
   "execution_count": null,
   "id": "cefa4fb3-e6b4-42bd-b269-089381e767aa",
   "metadata": {},
   "outputs": [],
   "source": [
    "c_l=[10,50,100,200,300,400,500,600,700,800,900,1000]"
   ]
  },
  {
   "cell_type": "code",
   "execution_count": null,
   "id": "4047ac39-1329-4764-ae87-54b0ad55c09d",
   "metadata": {},
   "outputs": [],
   "source": [
    "def create_collections(sc,cl,coord_ind,length=20,rem=400):\n",
    "    '''\n",
    "    structure of the output:\n",
    "    context: {(ind1,ind2):[real,constructed]}\n",
    "    '''\n",
    "    col={}\n",
    "    for c in range(len(cl)):\n",
    "        col[cl[c]]={}\n",
    "        for l in range(length):\n",
    "            for ll in range(length):\n",
    "                if l!=ll:\n",
    "                    real=sc[c][coord_ind[(l,l)]]\n",
    "                    con=sc[c][coord_ind[(l,ll)]]\n",
    "                    if (len(real)==rem+cl[c]) and (len(con)==rem+cl[c]):\n",
    "                        col[cl[c]][(l,ll)]=[real,con]\n",
    "\n",
    "    return col"
   ]
  },
  {
   "cell_type": "code",
   "execution_count": null,
   "id": "b7283ddc-bc84-4ab8-9015-60fd36aca019",
   "metadata": {},
   "outputs": [],
   "source": [
    "def create_collection_full(sc,coord_ind,length=20):\n",
    "    '''\n",
    "    structure of the output:\n",
    "    context: {(ind1,ind2):[real,constructed]}\n",
    "    '''\n",
    "    col={}\n",
    "    for l in range(length):\n",
    "        for ll in range(length):\n",
    "            if l!=ll:\n",
    "                real=sc[coord_ind[(l,l)]]\n",
    "                con=sc[coord_ind[(l,ll)]]\n",
    "                col[(l,ll)]=[real,con]\n",
    "\n",
    "    return col"
   ]
  },
  {
   "cell_type": "code",
   "execution_count": null,
   "id": "f0539801-f472-4fc0-8ac6-44992ccdef7d",
   "metadata": {},
   "outputs": [],
   "source": [
    "def get_results_FW(cc,coll):\n",
    "    res={\n",
    "        \"id\":[],\n",
    "        \"full\":[], \"full_n\":[], \"tail\":[], \"tail_n\":[], \"tail_50\":[],\"tail_50_n\":[],\n",
    "        \"tail_100\":[],\"tail_100_n\":[], \"tail_150\":[], \"tail_150_n\":[],\n",
    "        \"tail_200\":[],\"tail_200_n\":[],\"tail_250\":[],\"tail_250_n\":[]\n",
    "    }\n",
    "    sc=[50,100,150,200,250]\n",
    "    \n",
    "    for i in coll.keys():\n",
    "        res[\"id\"].append(i)\n",
    "        r=math.exp(np.mean(np.log(coll[i][0])))\n",
    "        c=math.exp(np.mean(np.log(coll[i][1])))\n",
    "        res[\"full\"].append(r>c)\n",
    "        res[\"full_n\"].append(abs(r-c))\n",
    "\n",
    "        r=math.exp(np.mean(np.log(coll[i][0][cc:])))\n",
    "        c=math.exp(np.mean(np.log(coll[i][1][cc:])))\n",
    "        res[\"tail\"].append(r>c)\n",
    "        res[\"tail_n\"].append(abs(r-c))\n",
    "        \n",
    "        for s in sc:\n",
    "            r=math.exp(np.mean(np.log(coll[i][0][cc:cc+s])))\n",
    "            c=math.exp(np.mean(np.log(coll[i][1][cc:cc+s])))\n",
    "            res[\"tail_\"+str(s)].append(r>c)\n",
    "            res[\"tail_\"+str(s)+\"_n\"].append(abs(r-c))\n",
    "            \n",
    "    res_overview={}\n",
    "    res_overview[\"full\"]=(res[\"full\"].count(True)/len(res[\"id\"]),res[\"full\"].count(True),len(res[\"id\"]))\n",
    "    res_overview[\"tail\"]=(res[\"tail\"].count(True)/len(res[\"id\"]),res[\"tail\"].count(True),len(res[\"id\"]))\n",
    "    for s in sc:\n",
    "        res_overview[\"tail_\"+str(s)]=(res[\"tail_\"+str(s)].count(True)/len(res[\"id\"]),res[\"tail_\"+str(s)].count(True),len(res[\"id\"]))\n",
    "\n",
    "    return {\"overview\":res_overview,\"full\":res}"
   ]
  },
  {
   "cell_type": "code",
   "execution_count": null,
   "id": "298acfa7-eebe-4d0e-a1cd-28064816a439",
   "metadata": {},
   "outputs": [],
   "source": [
    "def get_results_RC(cc,coll):\n",
    "    res={\n",
    "        \"id\":[],\n",
    "        \"head\":[], \"head_n\":[], \"head_50\":[],\"head_50_n\":[],\n",
    "        \"head_100\":[],\"head_100_n\":[], \"head_150\":[], \"head_150_n\":[],\n",
    "        \"head_200\":[],\"head_200_n\":[],\"head_250\":[],\"head_250_n\":[]\n",
    "    }\n",
    "    sc=[50,100,150,200,250]\n",
    "    \n",
    "    for i in coll.keys():\n",
    "        res[\"id\"].append(i)\n",
    "\n",
    "        r=math.exp(np.mean(np.log(coll[i][0][:-cc])))\n",
    "        c=math.exp(np.mean(np.log(coll[i][1][:-cc])))\n",
    "        res[\"head\"].append(r>c)\n",
    "        res[\"head_n\"].append(abs(r-c))\n",
    "        \n",
    "        for s in sc:\n",
    "            r=math.exp(np.mean(np.log(coll[i][0][-cc-s:-cc])))\n",
    "            c=math.exp(np.mean(np.log(coll[i][1][-cc-s:-cc])))\n",
    "            res[\"head_\"+str(s)].append(r>c)\n",
    "            res[\"head_\"+str(s)+\"_n\"].append(abs(r-c))\n",
    "            \n",
    "    res_overview={}\n",
    "    res_overview[\"head\"]=(res[\"head\"].count(True)/len(res[\"id\"]),res[\"head\"].count(True),len(res[\"id\"]))\n",
    "    for s in sc:\n",
    "        res_overview[\"head_\"+str(s)]=(res[\"head_\"+str(s)].count(True)/len(res[\"id\"]),res[\"head_\"+str(s)].count(True),len(res[\"id\"]))\n",
    "\n",
    "    return {\"overview\":res_overview,\"full\":res}"
   ]
  },
  {
   "cell_type": "code",
   "execution_count": null,
   "id": "eefe89c1-3fee-498b-a257-3c054520c8c9",
   "metadata": {},
   "outputs": [],
   "source": [
    "def get_results_tag(scores,cl,tag,coord_ind):\n",
    "    '''\n",
    "    results structure\n",
    "    context:{overview:(%,#,total),\"full\":dict df style}\n",
    "    '''\n",
    "    collection=create_collections(scores,cl,coord_ind)\n",
    "    results={}\n",
    "    for c in cl:\n",
    "        if tag==\"FW\":\n",
    "            results[c]=get_results_FW(c,collection[c])\n",
    "        else:\n",
    "            results[c]=get_results_RC(c,collection[c])\n",
    "    return results"
   ]
  },
  {
   "cell_type": "code",
   "execution_count": null,
   "id": "b8cd3e7c-dbd8-4516-9b9f-661a015c07d9",
   "metadata": {
    "jupyter": {
     "source_hidden": true
    }
   },
   "outputs": [],
   "source": [
    "def get_results_full(scores,tag,coord_ind):\n",
    "    coll=create_collection_full(scores,coord_ind)\n",
    "    sc=[50,100,150,200,250]\n",
    "    \n",
    "    if tag==\"RC\":\n",
    "        res={\n",
    "        \"id\":[],\n",
    "        \"head\":[], \"head_n\":[], \"head_50\":[],\"head_50_n\":[],\n",
    "        \"head_100\":[],\"head_100_n\":[], \"head_150\":[], \"head_150_n\":[],\n",
    "        \"head_200\":[],\"head_200_n\":[],\"head_250\":[],\"head_250_n\":[]\n",
    "        }\n",
    "        \n",
    "        for i in coll.keys():\n",
    "            res[\"id\"].append(i)\n",
    "        \n",
    "            r=math.exp(np.mean(np.log(coll[i][0][:400])))\n",
    "            c=math.exp(np.mean(np.log(coll[i][1][:400])))\n",
    "            res[\"head\"].append(r>c)\n",
    "            res[\"head_n\"].append(abs(r-c))\n",
    "            \n",
    "            for s in sc:\n",
    "                r=math.exp(np.mean(np.log(coll[i][0][400-s:400])))\n",
    "                c=math.exp(np.mean(np.log(coll[i][1][400-s:400])))\n",
    "                res[\"head_\"+str(s)].append(r>c)\n",
    "                res[\"head_\"+str(s)+\"_n\"].append(abs(r-c))\n",
    "                \n",
    "        res_overview={}\n",
    "        res_overview[\"head\"]=(res[\"head\"].count(True)/len(res[\"id\"]),res[\"head\"].count(True),len(res[\"id\"]))\n",
    "        for s in sc:\n",
    "            res_overview[\"head_\"+str(s)]=(res[\"head_\"+str(s)].count(True)/len(res[\"id\"]),res[\"head_\"+str(s)].count(True),len(res[\"id\"]))\n",
    "        \n",
    "        return {\"overview\":res_overview,\"full\":res}\n",
    "\n",
    "    else:\n",
    "        res={\n",
    "        \"id\":[],\n",
    "        \"full\":[], \"full_n\":[], \"tail\":[], \"tail_n\":[], \"tail_50\":[],\"tail_50_n\":[],\n",
    "        \"tail_100\":[],\"tail_100_n\":[], \"tail_150\":[], \"tail_150_n\":[],\n",
    "        \"tail_200\":[],\"tail_200_n\":[],\"tail_250\":[],\"tail_250_n\":[]\n",
    "        }\n",
    "        sc=[50,100,150,200,250]\n",
    "        \n",
    "        for i in coll.keys():\n",
    "            res[\"id\"].append(i)\n",
    "            r=math.exp(np.mean(np.log(coll[i][0])))\n",
    "            c=math.exp(np.mean(np.log(coll[i][1])))\n",
    "            res[\"full\"].append(r>c)\n",
    "            res[\"full_n\"].append(abs(r-c))\n",
    "    \n",
    "            r=math.exp(np.mean(np.log(coll[i][0][-400:])))\n",
    "            c=math.exp(np.mean(np.log(coll[i][1][-400:])))\n",
    "            res[\"tail\"].append(r>c)\n",
    "            res[\"tail_n\"].append(abs(r-c))\n",
    "            \n",
    "            for s in sc:\n",
    "                r=math.exp(np.mean(np.log(coll[i][0][-400:-400+s])))\n",
    "                c=math.exp(np.mean(np.log(coll[i][1][-400:-400+s])))\n",
    "                res[\"tail_\"+str(s)].append(r>c)\n",
    "                res[\"tail_\"+str(s)+\"_n\"].append(abs(r-c))\n",
    "                \n",
    "        res_overview={}\n",
    "        res_overview[\"full\"]=(res[\"full\"].count(True)/len(res[\"id\"]),res[\"full\"].count(True),len(res[\"id\"]))\n",
    "        res_overview[\"tail\"]=(res[\"tail\"].count(True)/len(res[\"id\"]),res[\"tail\"].count(True),len(res[\"id\"]))\n",
    "        for s in sc:\n",
    "            res_overview[\"tail_\"+str(s)]=(res[\"tail_\"+str(s)].count(True)/len(res[\"id\"]),res[\"tail_\"+str(s)].count(True),len(res[\"id\"]))\n",
    "    \n",
    "        return {\"overview\":res_overview,\"full\":res}\n",
    "        "
   ]
  },
  {
   "cell_type": "code",
   "execution_count": null,
   "id": "ab209fd8-2bf5-43b4-bea7-3a59892830d4",
   "metadata": {},
   "outputs": [],
   "source": [
    "results_clp_FW=get_results_tag(clp_FW_con,c_l,\"FW\",meta_fl)\n",
    "results_clp_RC=get_results_tag(clp_RC_con,c_l,\"RC\",meta_fl)\n",
    "results_pro_FW=get_results_tag(pro_FW_con,c_l[:-1],\"FW\",meta_fl)\n",
    "results_pro_RC=get_results_tag(pro_RC_con,c_l[:-2],\"RC\",meta_fl)"
   ]
  },
  {
   "cell_type": "code",
   "execution_count": null,
   "id": "f71274a0-fe12-4404-9a05-546a80ac4d7d",
   "metadata": {},
   "outputs": [],
   "source": [
    "results_clp_FW_long=get_results_tag(clp_FW_long,[1100,1200],\"FW\",meta_fl)\n",
    "results_clp_RC_long=get_results_tag(clp_RC_long,[1100,1200],\"RC\",meta_fl)"
   ]
  },
  {
   "cell_type": "code",
   "execution_count": null,
   "id": "2b0708bb-1374-40c4-9de1-bf0301408dbe",
   "metadata": {},
   "outputs": [],
   "source": [
    "results_clp_FW_full=get_results_full(clp_FW_full[0],\"FW\",meta_fl)\n",
    "results_clp_RC_full=get_results_full(clp_RC_full[0],\"RC\",meta_fl)\n",
    "results_pro_FW_full=get_results_full(pro_FW_full[0],\"FW\",meta_fl)\n",
    "results_pro_RC_full=get_results_full(pro_RC_full[0],\"RC\",meta_fl)"
   ]
  },
  {
   "cell_type": "markdown",
   "id": "2d1c55c0-40b6-4431-bcf2-fe57e5eda13a",
   "metadata": {},
   "source": [
    "## graphical"
   ]
  },
  {
   "cell_type": "code",
   "execution_count": null,
   "id": "97474a0c-27f1-487f-9db9-6df1396fe905",
   "metadata": {},
   "outputs": [],
   "source": [
    "sns.set(style='whitegrid')\n",
    "plt.figure(figsize=(10,8))\n",
    "ax=sns.scatterplot(data=combined_df,x='head_sc', y=\"tail_id_200\",palette='magma',hue=\"RCM_head\",s=100)\n",
    "ax.set_xlabel(\"Score of the head\", fontsize=12)\n",
    "ax.set_ylabel(\"Tail identity\", fontsize=12)\n",
    "legend = ax.get_legend()\n",
    "legend.set_title(\"Reverse Delta\")\n",
    "plt.show()"
   ]
  },
  {
   "cell_type": "code",
   "execution_count": null,
   "id": "a11db525-08da-4bfc-8a6e-e2d4de490a39",
   "metadata": {},
   "outputs": [],
   "source": [
    "a=[0,0.05,0.1,0.15,0.2,0.25,0.3,0.35,0.4]\n",
    "pre_1,ret_1=get_pre_rec_data(combined_df,a,\"comparison_head_200\")\n",
    "pre_2,ret_2=get_pre_rec_data(combined_df,a,\"RCM_head\")\n",
    "pre_3,ret_3=get_pre_rec_data(combined_df,a,\"RCM_tail\")"
   ]
  },
  {
   "cell_type": "code",
   "execution_count": null,
   "id": "fdd7236a-2b52-4ebb-8fe2-affa24d970ce",
   "metadata": {},
   "outputs": [],
   "source": [
    "plt.figure(figsize=(8, 5))\n",
    "plt.plot(a, pre_1, label='Reverse Comparison', color='#dc267f')\n",
    "plt.plot(a, pre_2, label='Reverse Delta', color='#788ef0')\n",
    "plt.plot(a, pre_3, label='Forward Delta', color='#fe6100')\n",
    "plt.xlabel('Confidence Threshold')  # Replace with your x-axis label\n",
    "plt.ylabel('Accuracy')  # Replace with your y-axis label\n",
    "plt.legend()\n",
    "plt.show()"
   ]
  },
  {
   "cell_type": "code",
   "execution_count": null,
   "id": "b006f362-311b-43f5-971b-023dfc5a80d8",
   "metadata": {},
   "outputs": [],
   "source": [
    "plt.figure(figsize=(8, 5))\n",
    "plt.plot(a, ret_1, label='Reverse Comparison', color='#dc267f')\n",
    "plt.plot(a, ret_2, label='Reverse Delta', color='#788ef0')\n",
    "plt.plot(a, ret_3, label='Forward Delta', color='#fe6100')\n",
    "plt.xlabel('Confidence Threshold')  # Replace with your x-axis label\n",
    "plt.ylabel('Number of Test cases')  # Replace with your y-axis label\n",
    "plt.legend()\n",
    "plt.show()"
   ]
  }
 ],
 "metadata": {
  "kernelspec": {
   "display_name": "Python 3 (ipykernel)",
   "language": "python",
   "name": "python3"
  },
  "language_info": {
   "codemirror_mode": {
    "name": "ipython",
    "version": 3
   },
   "file_extension": ".py",
   "mimetype": "text/x-python",
   "name": "python",
   "nbconvert_exporter": "python",
   "pygments_lexer": "ipython3",
   "version": "3.10.12"
  }
 },
 "nbformat": 4,
 "nbformat_minor": 5
}
