{
 "cells": [
  {
   "cell_type": "code",
   "execution_count": null,
   "id": "fca3c7bb-4b24-4e9e-b9c9-4dcd0618336e",
   "metadata": {},
   "outputs": [],
   "source": [
    "%load_ext autoreload\n",
    "%autoreload 2"
   ]
  },
  {
   "cell_type": "markdown",
   "id": "cb03f85a-a458-4860-8975-e253f2140ba8",
   "metadata": {},
   "source": [
    "# Module imports"
   ]
  },
  {
   "cell_type": "code",
   "execution_count": null,
   "id": "07ca93df-6666-4ddf-9f8e-34a1b04000d4",
   "metadata": {},
   "outputs": [],
   "source": [
    "import pandas as pd\n",
    "import numpy as np\n",
    "import seaborn as sns\n",
    "import random\n",
    "import torch\n",
    "import pickle\n",
    "import math\n",
    "import matplotlib.pyplot as plt\n",
    "from matplotlib.colors import Normalize\n",
    "from scipy.special import kl_div\n",
    "from tqdm import tqdm\n",
    "from Bio import SeqIO\n",
    "from Bio.Seq import Seq\n",
    "import re\n",
    "from analysis_utils import convert_data, get_tail_info, create_data_frame\n",
    "from analysis_utils import create_collection_orthologs, ortholog_tails, create_data_frame_ortho\n",
    "from analysis_utils import get_pre_rec_data"
   ]
  },
  {
   "cell_type": "markdown",
   "id": "dc06aa9f-0999-4a3e-bf52-bd50310ce90b",
   "metadata": {},
   "source": [
    "# Set up"
   ]
  },
  {
   "cell_type": "markdown",
   "id": "1418afe4-d08e-45c7-bb44-b8c8192bc16c",
   "metadata": {},
   "source": [
    "## 10 bp"
   ]
  },
  {
   "cell_type": "code",
   "execution_count": null,
   "id": "6fd74545-159a-4110-b1ed-415aa18c6946",
   "metadata": {},
   "outputs": [],
   "source": [
    "# load generated sequence scores\n",
    "c10 = # sequence base pair scores\n",
    "c10h = # head base pair scores"
   ]
  },
  {
   "cell_type": "code",
   "execution_count": null,
   "id": "dbd873d9-fdb5-44be-bfee-aad116760bbd",
   "metadata": {},
   "outputs": [],
   "source": [
    "filename='path_to_Ecoli_genome'\n",
    "record = SeqIO.read(filename, \"genbank\")\n",
    "genome_coli=record.seq\n",
    "filename='path_to_Bsubtilis_genome'\n",
    "record = SeqIO.read(filename, \"genbank\")\n",
    "genome_sub=record.seq\n",
    "filename='path_to_salmonella_genome'\n",
    "record = SeqIO.read(filename, \"genbank\")\n",
    "genome_nella=record.seq"
   ]
  },
  {
   "cell_type": "code",
   "execution_count": null,
   "id": "81cc14ad-9d5f-4241-95d5-c4f17051d689",
   "metadata": {},
   "outputs": [],
   "source": [
    "# load metadata\n",
    "ht_meta=pd.read_csv(\"metadata_10bp_ht.csv\")\n",
    "seq_meta=pd.read_csv(\"metadata_10bp_seqs.csv\")"
   ]
  },
  {
   "cell_type": "code",
   "execution_count": null,
   "id": "3bcdb21e-6269-46b0-be81-347bef765600",
   "metadata": {},
   "outputs": [],
   "source": [
    "def make_ind_dict(df_h,df_s):\n",
    "'''\n",
    "takes up metadata to make dictionaries used in analysis\n",
    "'''\n",
    "    ind_th={}\n",
    "    th_ind={}\n",
    "    # seq_ind={}\n",
    "    s_ind={}\n",
    "    for i in range(len(df_h)):\n",
    "        ind_th[df_h.iloc[i][\"index\"]]=(df_h.iloc[i][\"Intersection\"],df_h.iloc[i][\"coordinate\"])\n",
    "        th_ind[(df_h.iloc[i][\"Intersection\"],df_h.iloc[i][\"coordinate\"])]=df_h.iloc[i][\"index\"]\n",
    "\n",
    "    for i in tqdm(range(len(df_s)), desc=\"Processing tasks\", unit=\"task\"):\n",
    "        s_ind[(df_s.iloc[i][\"Intersection\"],df_s.iloc[i][\"head\"],df_s.iloc[i][\"tail\"])]=df_s.iloc[i][\"index\"]\n",
    "                        \n",
    "    return ind_th, th_ind, s_ind"
   ]
  },
  {
   "cell_type": "code",
   "execution_count": null,
   "id": "884ca8b5-acdd-4652-9b7f-4d1bd3f24a5d",
   "metadata": {},
   "outputs": [],
   "source": [
    "ind_th, ind_th_fl, s_ind=make_ind_dict(ht_meta,seq_meta)"
   ]
  },
  {
   "cell_type": "code",
   "execution_count": null,
   "id": "9656d258-2bac-4a6d-921b-ab2ff9401f46",
   "metadata": {},
   "outputs": [],
   "source": [
    "# generates tail sequences\n",
    "tails={}\n",
    "genomes={\"coli\":genome_coli, \"sub\":genome_sub, \"nella\":genome_nella}\n",
    "for i in range(len(ht_meta)):\n",
    "    k=ht_meta.iloc[i][\"coordinate\"]\n",
    "    tails[(ht_meta.iloc[i][\"Intersection\"],k)]=genomes[ht_meta.iloc[i][\"organism\"]][k+10:k+510]"
   ]
  },
  {
   "cell_type": "markdown",
   "id": "0957ca23-80c1-4120-b541-1b5e1a16776d",
   "metadata": {},
   "source": [
    "## Ortholog genes"
   ]
  },
  {
   "cell_type": "code",
   "execution_count": null,
   "id": "f71181bf-2a30-4216-bea9-04f021423a6c",
   "metadata": {},
   "outputs": [],
   "source": [
    "# load aligned records\n",
    "aligned_records_clp=read_fasta(\"picked_clpA.txt\")\n",
    "aligned_aa_clp=read_fasta(\"picked_clpA_prot.txt\")\n",
    "aligned_records_pro=read_fasta(\"picked_proRS.txt\")\n",
    "aligned_aa_pro=read_fasta(\"picked_prot_proRS.txt\")"
   ]
  },
  {
   "cell_type": "code",
   "execution_count": null,
   "id": "3f9f794c-4163-4eaa-a458-9d6a65dcea2f",
   "metadata": {},
   "outputs": [],
   "source": [
    "# load base-pair scores for analysis\n",
    "clp_scores = # for clpA\n",
    "pro_scores = # for proRS\n",
    "clp_heads = # for clpA heads\n",
    "pro_scores = # for proRS heads"
   ]
  },
  {
   "cell_type": "markdown",
   "id": "36046c1e-1f2d-4750-8e53-92be1ee4e5f0",
   "metadata": {},
   "source": [
    "# 10 bp analysis"
   ]
  },
  {
   "cell_type": "markdown",
   "id": "07f0934a-933b-4b7d-8511-9a5d5aa83234",
   "metadata": {},
   "source": [
    "## numerical"
   ]
  },
  {
   "cell_type": "code",
   "execution_count": null,
   "id": "72565b07-5002-45fc-b5d5-49900382fa84",
   "metadata": {},
   "outputs": [],
   "source": [
    "collection_500=convert_data(c10h,c10t,c10,ind_th_fl,s_ind,seq_meta)"
   ]
  },
  {
   "cell_type": "code",
   "execution_count": null,
   "id": "7b8767c1-aeb5-49d6-8eb7-ab07e5c4ee12",
   "metadata": {},
   "outputs": [],
   "source": [
    "tail_data=get_tail_info(list(collection_500.keys()),tails)"
   ]
  },
  {
   "cell_type": "code",
   "execution_count": null,
   "id": "dd4d8241-0b4b-473d-aadf-5ca45a6bc621",
   "metadata": {},
   "outputs": [],
   "source": [
    "dataFrame_500=create_data_frame(collection_500,tail_data,mbp=500)"
   ]
  },
  {
   "cell_type": "code",
   "execution_count": null,
   "id": "219be70d-d5ca-47e7-ba9f-0c844ca2ede1",
   "metadata": {},
   "outputs": [],
   "source": [
    "df_500_filt=dataFrame_500_mod[dataFrame_500_mod[\"tail_id_200\"]<1]"
   ]
  },
  {
   "cell_type": "code",
   "execution_count": null,
   "id": "78ba48f9-376d-4a9f-a1d1-37791afca4f6",
   "metadata": {},
   "outputs": [],
   "source": [
    "print_results(df_500_filt)"
   ]
  },
  {
   "cell_type": "markdown",
   "id": "6f9ea8c1-3c6a-476d-bcc8-03190212560c",
   "metadata": {},
   "source": [
    "## graphical"
   ]
  },
  {
   "cell_type": "code",
   "execution_count": null,
   "id": "3914b105-67fa-45e0-950a-2f43406e2d52",
   "metadata": {},
   "outputs": [],
   "source": [
    "plt.figure(figsize=(8, 6))\n",
    "sns.set(style='white')\n",
    "ax=sns.kdeplot(data=df_500_filt, x='head_sc_log', hue=\"RCM_head\", palette=\"magma\",common_norm=False, fill=True)\n",
    "ax.set_xlabel('Score of the head')\n",
    "legend = ax.get_legend()\n",
    "legend.set_title(\"Reverse Delta\")\n",
    "plt.show()"
   ]
  },
  {
   "cell_type": "code",
   "execution_count": null,
   "id": "b2e3afba-b674-4472-bbb6-08e133088574",
   "metadata": {},
   "outputs": [],
   "source": [
    "plt.figure(figsize=(8, 5))\n",
    "sns.boxplot(data=df_500_filt, x='RCM_head', y='head_sc_log', palette=\"magma\")\n",
    "plt.xlabel('Reverse Delta prediction')\n",
    "plt.ylabel('Score of the head')\n",
    "plt.show()"
   ]
  },
  {
   "cell_type": "code",
   "execution_count": null,
   "id": "2c937d89-1096-4e84-8dba-386efd5d11c1",
   "metadata": {},
   "outputs": [],
   "source": [
    "a=[0,0.05,0.1,0.15,0.2,0.25,0.3,0.35,0.4,0.45,0.5,0.6]\n",
    "pre_1,ret_1=get_pre_rec_data(df_500_filt,a,\"comparison_head_200\")\n",
    "pre_2,ret_2=get_pre_rec_data(df_500_filt,a,\"RCM_head\")\n",
    "pre_3,ret_3=get_pre_rec_data(df_500_filt,a,\"RCM_tail\")"
   ]
  },
  {
   "cell_type": "code",
   "execution_count": null,
   "id": "eb508b8d-d37b-4d42-9162-a0f2b63edaab",
   "metadata": {},
   "outputs": [],
   "source": [
    "plt.figure(figsize=(8, 5))\n",
    "plt.plot(a, pre_1, label='Reverse Comparison', color='#dc267f')\n",
    "plt.plot(a, pre_2, label='Reverse Delta', color='#788ef0')\n",
    "plt.plot(a, pre_3, label='Forward Delta', color='#fe6100')\n",
    "plt.xlabel('Confidence Threshold')  # Replace with your x-axis label\n",
    "plt.ylabel('Accuracy')  # Replace with your y-axis label\n",
    "plt.legend()\n",
    "plt.show()"
   ]
  },
  {
   "cell_type": "code",
   "execution_count": null,
   "id": "6b40f36a-ddd9-4c3a-a2d0-d9867ba0990e",
   "metadata": {},
   "outputs": [],
   "source": [
    "plt.figure(figsize=(8, 5))\n",
    "plt.plot(a, ret_1, label='Reverse Comparison', color='#dc267f')\n",
    "plt.plot(a, ret_2, label='Reverse Delta', color='#788ef0')\n",
    "plt.plot(a, ret_3, label='Forward Delta', color='#fe6100')\n",
    "plt.xlabel('Confidence Threshold')  # Replace with your x-axis label\n",
    "plt.ylabel('Number of Test cases')  # Replace with your y-axis label\n",
    "plt.legend()\n",
    "plt.show()"
   ]
  },
  {
   "cell_type": "markdown",
   "id": "55a1eb08-29aa-4cb0-9ed2-2ab4e935c229",
   "metadata": {},
   "source": [
    "# Ortholog genes analysis"
   ]
  },
  {
   "cell_type": "markdown",
   "id": "230162ec-edd2-4233-8d39-3acc326a6406",
   "metadata": {},
   "source": [
    "## numerical"
   ]
  },
  {
   "cell_type": "code",
   "execution_count": null,
   "id": "d7a9db32-7a23-4622-94db-0d47904df888",
   "metadata": {},
   "outputs": [],
   "source": [
    "pro_collection=create_collection_orthologs(clp_scores, clp_heads)\n",
    "clp_collection=create_collection_orthologs(pro_scores, pro_heads)"
   ]
  },
  {
   "cell_type": "code",
   "execution_count": null,
   "id": "02a5399a-9c05-451d-8f56-fcc6da9e79d7",
   "metadata": {},
   "outputs": [],
   "source": [
    "clp_tails=ortholog_tails(aligned_aa_clp,aligned_records_clp)\n",
    "pro_tails=ortholog_tails(aligned_aa_pro,aligned_records_pro)"
   ]
  },
  {
   "cell_type": "code",
   "execution_count": null,
   "id": "79a8e112-d227-45db-af66-b8629ce4a421",
   "metadata": {},
   "outputs": [],
   "source": [
    "clp_df=create_data_frame_ortho(clp_collection,clp_tails)"
   ]
  },
  {
   "cell_type": "code",
   "execution_count": null,
   "id": "1c644363-d86a-4987-a205-e6034918cbee",
   "metadata": {},
   "outputs": [],
   "source": [
    "pro_df=create_data_frame_ortho(pro_collection,pro_tails)"
   ]
  },
  {
   "cell_type": "code",
   "execution_count": null,
   "id": "205e3c66-6dbd-441c-a682-81d71e937ce3",
   "metadata": {},
   "outputs": [],
   "source": [
    "combined_df = pd.concat([pro_df, clp_df], ignore_index=True)"
   ]
  },
  {
   "cell_type": "code",
   "execution_count": null,
   "id": "61ed6d97-ed1f-4a0c-b8f6-66f5759f2532",
   "metadata": {},
   "outputs": [],
   "source": [
    "print_results(combined_df)"
   ]
  },
  {
   "cell_type": "markdown",
   "id": "2d1c55c0-40b6-4431-bcf2-fe57e5eda13a",
   "metadata": {},
   "source": [
    "## graphical"
   ]
  },
  {
   "cell_type": "code",
   "execution_count": null,
   "id": "97474a0c-27f1-487f-9db9-6df1396fe905",
   "metadata": {},
   "outputs": [],
   "source": [
    "sns.set(style='whitegrid')\n",
    "plt.figure(figsize=(10,8))\n",
    "ax=sns.scatterplot(data=combined_df,x='head_sc', y=\"tail_id_200\",palette='magma',hue=\"RCM_head\",s=100)\n",
    "ax.set_xlabel(\"Score of the head\", fontsize=12)\n",
    "ax.set_ylabel(\"Tail identity\", fontsize=12)\n",
    "legend = ax.get_legend()\n",
    "legend.set_title(\"Reverse Delta\")\n",
    "plt.show()"
   ]
  },
  {
   "cell_type": "code",
   "execution_count": null,
   "id": "a11db525-08da-4bfc-8a6e-e2d4de490a39",
   "metadata": {},
   "outputs": [],
   "source": [
    "a=[0,0.05,0.1,0.15,0.2,0.25,0.3,0.35,0.4]\n",
    "pre_1,ret_1=get_pre_rec_data(combined_df,a,\"comparison_head_200\")\n",
    "pre_2,ret_2=get_pre_rec_data(combined_df,a,\"RCM_head\")\n",
    "pre_3,ret_3=get_pre_rec_data(combined_df,a,\"RCM_tail\")"
   ]
  },
  {
   "cell_type": "code",
   "execution_count": null,
   "id": "fdd7236a-2b52-4ebb-8fe2-affa24d970ce",
   "metadata": {},
   "outputs": [],
   "source": [
    "plt.figure(figsize=(8, 5))\n",
    "plt.plot(a, pre_1, label='Reverse Comparison', color='#dc267f')\n",
    "plt.plot(a, pre_2, label='Reverse Delta', color='#788ef0')\n",
    "plt.plot(a, pre_3, label='Forward Delta', color='#fe6100')\n",
    "plt.xlabel('Confidence Threshold')  # Replace with your x-axis label\n",
    "plt.ylabel('Accuracy')  # Replace with your y-axis label\n",
    "plt.legend()\n",
    "plt.show()"
   ]
  },
  {
   "cell_type": "code",
   "execution_count": null,
   "id": "b006f362-311b-43f5-971b-023dfc5a80d8",
   "metadata": {},
   "outputs": [],
   "source": [
    "plt.figure(figsize=(8, 5))\n",
    "plt.plot(a, ret_1, label='Reverse Comparison', color='#dc267f')\n",
    "plt.plot(a, ret_2, label='Reverse Delta', color='#788ef0')\n",
    "plt.plot(a, ret_3, label='Forward Delta', color='#fe6100')\n",
    "plt.xlabel('Confidence Threshold')  # Replace with your x-axis label\n",
    "plt.ylabel('Number of Test cases')  # Replace with your y-axis label\n",
    "plt.legend()\n",
    "plt.show()"
   ]
  }
 ],
 "metadata": {
  "kernelspec": {
   "display_name": "Python 3 (ipykernel)",
   "language": "python",
   "name": "python3"
  },
  "language_info": {
   "codemirror_mode": {
    "name": "ipython",
    "version": 3
   },
   "file_extension": ".py",
   "mimetype": "text/x-python",
   "name": "python",
   "nbconvert_exporter": "python",
   "pygments_lexer": "ipython3",
   "version": "3.10.12"
  }
 },
 "nbformat": 4,
 "nbformat_minor": 5
}
