{
 "cells": [
  {
   "cell_type": "code",
   "execution_count": null,
   "id": "963af9d4-37fa-4de7-b3b9-fff6c8696439",
   "metadata": {},
   "outputs": [],
   "source": [
    "%load_ext autoreload\n",
    "%autoreload 2"
   ]
  },
  {
   "cell_type": "code",
   "execution_count": null,
   "id": "9e6759e9-c4ac-4411-87d9-bd48c1a5aae7",
   "metadata": {},
   "outputs": [],
   "source": [
    "from Bio import SeqIO\n",
    "from Bio.Seq import Seq\n",
    "import pandas as pd\n",
    "import numpy as np\n",
    "import random\n",
    "import torch\n",
    "import pickle\n",
    "import math\n",
    "from evo import Evo, positional_entropies\n",
    "from evo.scoring import prepare_batch, score_sequences\n",
    "from tqdm import tqdm\n",
    "from generating_utils import perposition_scores, remove_gaps, complement_5_strand, parse_genbank_to_dataframe\n",
    "from analysis_utils import read_fasta, violin"
   ]
  },
  {
   "cell_type": "code",
   "execution_count": null,
   "id": "1699aa0e-4a39-465b-aa69-51d62df88760",
   "metadata": {},
   "outputs": [],
   "source": [
    "'''\n",
    "This notebook is used to generate  and analyze additional data for the poster\n",
    "\n",
    "'''"
   ]
  },
  {
   "cell_type": "markdown",
   "id": "2744e5d2-0e90-4757-a9d5-5ec79782767e",
   "metadata": {},
   "source": [
    "# Set up"
   ]
  },
  {
   "cell_type": "code",
   "execution_count": null,
   "id": "cdfe7c80-c8f1-4385-977e-5aa55bfc49bc",
   "metadata": {},
   "outputs": [],
   "source": [
    "device = 'cuda:0'\n",
    "seed = 42\n",
    "torch.manual_seed(seed)\n",
    "np.random.seed(seed)\n",
    "random.seed(seed)\n",
    "\n",
    "\n",
    "evo_model = Evo('evo-1-131k-base')\n",
    "\n",
    "model, tokenizer = evo_model.model, evo_model.tokenizer\n",
    "model.to(device) \n",
    "model.eval()\n",
    "dnp=True"
   ]
  },
  {
   "cell_type": "code",
   "execution_count": null,
   "id": "e5723014-b4bf-4194-b3c3-b39697c8162f",
   "metadata": {},
   "outputs": [],
   "source": [
    "aligned_records_clp=read_fasta(\"picked_clpA.txt\")\n",
    "aligned_aa_clp=read_fasta(\"picked_clpA_prot.txt\")\n",
    "aligned_records_pro=read_fasta(\"picked_proRS.txt\")\n",
    "aligned_aa_pro=read_fasta(\"picked_prot_proRS.txt\")"
   ]
  },
  {
   "cell_type": "code",
   "execution_count": null,
   "id": "e404004c-db8b-4b00-9595-13e2edae8bba",
   "metadata": {},
   "outputs": [],
   "source": [
    "color1='#68e7a9'\n",
    "color2='#fe6100'\n",
    "color3='#dc267f'\n",
    "color4='#788ef0'"
   ]
  },
  {
   "cell_type": "markdown",
   "id": "0c4f1ebc-9302-472c-9c82-dc21d5cf8e7e",
   "metadata": {
    "jp-MarkdownHeadingCollapsed": true
   },
   "source": [
    "# Functions"
   ]
  },
  {
   "cell_type": "code",
   "execution_count": null,
   "id": "94577a30-8918-4568-8eb6-9ff3d5fcd1ea",
   "metadata": {},
   "outputs": [],
   "source": [
    "def generate_ortholog_FW(aligned,alignedAA, \n",
    "                         model,tokenizer,device,\n",
    "                         context_front=\"full\",context_back=\"full\"):\n",
    "    cuttingAA=len(alignedAA[0][\"sequence\"])//2\n",
    "    cutting=3*(cuttingAA)\n",
    "    scores=[]\n",
    "    meta={}\n",
    "    counter=0\n",
    "    for i in tqdm(range(len(aligned)), desc=\"Processing tasks\", unit=\"task\"):\n",
    "        for j in range(len(aligned)):\n",
    "            head=remove_gaps(aligned[i][\"sequence\"][:cutting])\n",
    "            tail=remove_gaps(aligned[j][\"sequence\"][cutting:])\n",
    "            if context_front!=\"full\":\n",
    "                head=head[-context_front:]    \n",
    "            if context_back!=\"full\":\n",
    "                tail=tail[:context_back]\n",
    "            seq=head+tail\n",
    "            seq_RC=complement_5_strand(seq)\n",
    "            sc_FW=perposition_scores([seq], model, tokenizer, device)[0]\n",
    "            scores.append(sc_FW)\n",
    "\n",
    "    return scores"
   ]
  },
  {
   "cell_type": "code",
   "execution_count": null,
   "id": "f32594b6-a391-4093-82cd-64d02e320ca1",
   "metadata": {},
   "outputs": [],
   "source": [
    "def generate_ortholog_RC(aligned,alignedAA,\n",
    "                         model,tokenizer,device,\n",
    "                         context_front=\"full\",context_back=\"full\"):\n",
    "    cuttingAA=len(alignedAA[0][\"sequence\"])//2\n",
    "    cutting=3*(cuttingAA)\n",
    "    scores=[]\n",
    "    meta={}\n",
    "    counter=0\n",
    "    for i in tqdm(range(len(aligned)), desc=\"Processing tasks\", unit=\"task\"):\n",
    "        for j in range(len(aligned)):\n",
    "            head=remove_gaps(aligned[i][\"sequence\"][:cutting])\n",
    "            tail=remove_gaps(aligned[j][\"sequence\"][cutting:])\n",
    "            if context_front!=\"full\":\n",
    "                head=head[-context_front:]\n",
    "            if context_back!=\"full\":\n",
    "                tail=tail[:context_back]   \n",
    "            seq=head+tail\n",
    "            seq_RC=complement_5_strand(seq)\n",
    "            sc_RC=perposition_scores([seq_RC], model, tokenizer, device)[0][::-1]\n",
    "            scores.append(sc_RC)\n",
    "\n",
    "    return scores"
   ]
  },
  {
   "cell_type": "code",
   "execution_count": null,
   "id": "fee8f3de-3acd-4a46-a41c-b52d1960dfe0",
   "metadata": {},
   "outputs": [],
   "source": [
    "def context_dep_scores(aligned,alignedAA,\n",
    "                       model,tokenizer,device,\n",
    "                       cont_list,rem=400):\n",
    "    full_scores_FW=[]\n",
    "    full_scores_RC=[]\n",
    "    for i in cont_list:\n",
    "        print(\"context:\",i)\n",
    "        full_scores_FW.append(\n",
    "            generate_ortholog_FW(aligned,alignedAA,model,tokenizer,device,i,rem)\n",
    "        )\n",
    "        full_scores_RC.append(\n",
    "            generate_ortholog_RC(aligned,alignedAA,model,tokenizer,device,rem,i) \n",
    "        )\n",
    "    return full_scores_FW, full_scores_RC"
   ]
  },
  {
   "cell_type": "code",
   "execution_count": null,
   "id": "7368d5aa-6f9a-4a49-8ded-48b4e1464ee0",
   "metadata": {},
   "outputs": [],
   "source": [
    "sequence_meta"
   ]
  },
  {
   "cell_type": "code",
   "execution_count": null,
   "id": "4e984f97-d494-4458-967e-90b4c519aef1",
   "metadata": {},
   "outputs": [],
   "source": [
    "seq1=str(heads[(\"TGTTCAGCGC\",120683)]+tails[(\"TGTTCAGCGC\",120683)])\n",
    "seq2=str(heads[(\"TGTTCAGCGC\",120683)]+tails[(\"TGTTCAGCGC\",611086)])"
   ]
  },
  {
   "cell_type": "code",
   "execution_count": null,
   "id": "ed7b1a0f-f7a6-4447-a42f-85b5d4fde83f",
   "metadata": {},
   "outputs": [],
   "source": [
    "seq_RC_1=complement_5_strand(seq1)\n",
    "sc_FW_1=perposition_scores([seq1], model, tokenizer, device)[0]\n",
    "sc_RC_1=perposition_scores([seq_RC_1], model, tokenizer, device)[0][::-1]"
   ]
  },
  {
   "cell_type": "code",
   "execution_count": null,
   "id": "2186739b-685d-4dbf-9159-88d2c22d6619",
   "metadata": {},
   "outputs": [],
   "source": [
    "seq_RC_2=complement_5_strand(seq2)\n",
    "sc_FW_2=perposition_scores([seq2], model, tokenizer, device)[0]\n",
    "sc_RC_2=perposition_scores([seq_RC_2], model, tokenizer, device)[0][::-1]"
   ]
  },
  {
   "cell_type": "code",
   "execution_count": null,
   "id": "2204cb9f-89c0-42f8-ade2-e72e28a0d980",
   "metadata": {},
   "outputs": [],
   "source": [
    "math.exp(np.mean(np.log(sc_RC_2[790:990])))"
   ]
  },
  {
   "cell_type": "markdown",
   "id": "d7fb542a-4cc0-4649-96ca-0509461339ea",
   "metadata": {
    "jp-MarkdownHeadingCollapsed": true
   },
   "source": [
    "# Genome distribution graphs"
   ]
  },
  {
   "cell_type": "code",
   "execution_count": null,
   "id": "359f35f2-4471-4731-adee-972982e16390",
   "metadata": {},
   "outputs": [],
   "source": [
    "filename='path to EColiK12.gbff'\n",
    "feat_coli=parse_genbank_to_dataframe(filename)"
   ]
  },
  {
   "cell_type": "code",
   "execution_count": null,
   "id": "5486809a-85bd-4b9c-80c7-f06897cf8d41",
   "metadata": {},
   "outputs": [],
   "source": [
    "# collect intragenic regions\n",
    "intra_list=[]\n",
    "for i in range(2,len(feat_coli)-1):\n",
    "    if feat_coli.iloc[i+1][\"Start\"]-feat_coli.iloc[i][\"End\"]>50:\n",
    "        intra_list.append((feat_coli.iloc[i][\"End\"],feat_coli.iloc[i+1][\"Start\"],feat_coli.iloc[i+1][\"Start\"]-feat_coli.iloc[i][\"End\"]))\n",
    "\n"
   ]
  },
  {
   "cell_type": "code",
   "execution_count": null,
   "id": "c509251b-7df5-423d-a7f9-d4df23773c9a",
   "metadata": {},
   "outputs": [],
   "source": [
    "data={\"CDS\":[],\"tRNA\":[],\"rRNA\":[],\"Intergenic regions\":[]}\n",
    "names={\"CDS\":[],\"tRNA\":[],\"rRNA\":[]}\n",
    "for i in tqdm(range(len(feat_coli)), desc=\"Processing tasks\", unit=\"task\"):\n",
    "    start=feat_coli.iloc[i][\"Start\"]\n",
    "    if start>1000:\n",
    "        type=feat_coli.iloc[i][\"Type\"]\n",
    "        if (type==\"CDS\") | (type==\"rRNA\")|(type==\"tRNA\"):\n",
    "            name=feat_coli.iloc[i][\"Gene\"]\n",
    "            # if not \"ins\" in name:\n",
    "            seq=[str(genome_coli[start-1000:feat_coli.iloc[i][\"End\"]])]\n",
    "            data[type].append(np.mean(positional_entropies(seq,model,tokenizer)[0][1000:]))\n",
    "            names[type].append(name) \n",
    "            \n",
    "for i in tqdm(range(len(intra_list)), desc=\"Processing tasks\", unit=\"task\"):\n",
    "    seq=[str(genome_coli[intra_list[i][0]-1000:intra_list[i][1]])]\n",
    "    data[\"Intergenic regions\"].append(np.mean(positional_entropies(seq,model,tokenizer)[0][1000:]))"
   ]
  },
  {
   "cell_type": "code",
   "execution_count": null,
   "id": "936e98e6-ca76-4032-9046-4096ea740499",
   "metadata": {},
   "outputs": [],
   "source": [
    "display(violin(data,\"Type\",\"Average Entropy\"))"
   ]
  },
  {
   "cell_type": "code",
   "execution_count": null,
   "id": "647f99f3-e9c0-42bf-95ff-5ad0be2151ba",
   "metadata": {},
   "outputs": [],
   "source": [
    "real_clp=[]\n",
    "for i in tqdm(range(len(aligned_records_clp)), desc=\"Processing tasks\", unit=\"task\"):\n",
    "    seq=[remove_gaps(aligned_records_clp[i][\"sequence\"])]\n",
    "    real_clp.append(np.mean(positional_entropies(seq,model,tokenizer)[0]))"
   ]
  },
  {
   "cell_type": "code",
   "execution_count": null,
   "id": "68ea85ba-3cca-4dea-9c06-1c0094f23508",
   "metadata": {},
   "outputs": [],
   "source": [
    "real_pro=[]\n",
    "for i in tqdm(range(len(aligned_records_pro)), desc=\"Processing tasks\", unit=\"task\"):\n",
    "        seq=[remove_gaps(aligned_records_pro[i][\"sequence\"])]\n",
    "        real_pro.append(np.mean(positional_entropies(seq,model,tokenizer)[0]))"
   ]
  },
  {
   "cell_type": "code",
   "execution_count": null,
   "id": "e6b15c64-e357-4e8a-86e3-4e85aaa2861a",
   "metadata": {},
   "outputs": [],
   "source": [
    "data={\"ClpA\":real_clp,\"ProRS\":real_pro}"
   ]
  },
  {
   "cell_type": "code",
   "execution_count": null,
   "id": "e7cb9ad3-2c16-4d97-93ea-163d947a2d60",
   "metadata": {},
   "outputs": [],
   "source": [
    "display(violin(data,\"Gene\",\"Average Entropy\"))"
   ]
  },
  {
   "cell_type": "markdown",
   "id": "635566ef-814b-462d-a525-f6f4ebbcc194",
   "metadata": {
    "jp-MarkdownHeadingCollapsed": true
   },
   "source": [
    "# Context dependencies (ortholog)"
   ]
  },
  {
   "cell_type": "code",
   "execution_count": null,
   "id": "914f7af2-0790-44ae-ae77-3939e9dbbbd2",
   "metadata": {},
   "outputs": [],
   "source": [
    "# gen meta\n",
    "meta={}\n",
    "meta_fl={}\n",
    "counter=0\n",
    "for i in range(20):\n",
    "    for j in range(20):\n",
    "        meta[counter]=(i,j)\n",
    "        meta_fl[(i,j)]=counter\n",
    "        counter+=1\n",
    "        "
   ]
  },
  {
   "cell_type": "code",
   "execution_count": null,
   "id": "1df9df1f-93c8-4339-87b4-4caef48fe287",
   "metadata": {
    "scrolled": true
   },
   "outputs": [],
   "source": [
    "# context list\n",
    "c_l=[10,50,100,200,300,400,500,600,700,800,900,1000,1100, 1200]\n",
    "clp_fw_sc,clp_rc_sc=context_dep_scores(aligned_records_clp,aligned_aa_clp, \n",
    "                         model, tokenizer,device,c_l)"
   ]
  },
  {
   "cell_type": "code",
   "execution_count": null,
   "id": "91564805-1a1a-4f7b-9183-fc850e92b646",
   "metadata": {},
   "outputs": [],
   "source": [
    "with open(\"scores_clpA_FW_con.pkl\", \"wb\") as file:\n",
    "    pickle.dump(clp_fw_sc, file)\n",
    "with open(\"scores_clpA_RC_con.pkl\", \"wb\") as file:\n",
    "    pickle.dump(clp_rc_sc, file)"
   ]
  },
  {
   "cell_type": "code",
   "execution_count": null,
   "id": "5888d3a2-97eb-465f-96bb-cc7f7cb30a6e",
   "metadata": {
    "scrolled": true
   },
   "outputs": [],
   "source": [
    "c_l=[10,50,100,200,300,400,500,600,700,800,900]\n",
    "pro_fw_sc,pro_rc_sc=context_dep_scores(aligned_records_pro,aligned_aa_pro, \n",
    "                         model, tokenizer,device,c_l)"
   ]
  },
  {
   "cell_type": "code",
   "execution_count": null,
   "id": "b41e8a77-3085-46cb-b34a-32754377b686",
   "metadata": {},
   "outputs": [],
   "source": [
    "with open(\"scores_proRS_FW_con.pkl\", \"wb\") as file:\n",
    "    pickle.dump(pro_fw_sc, file)    \n",
    "with open(\"scores_proRS_RC_con.pkl\", \"wb\") as file:\n",
    "    pickle.dump(pro_rc_sc, file)"
   ]
  },
  {
   "cell_type": "markdown",
   "id": "711deb3b-f72f-48cb-a09c-39efeb925f1d",
   "metadata": {},
   "source": [
    "# Context dependencies analysis"
   ]
  },
  {
   "cell_type": "code",
   "execution_count": null,
   "id": "9f3a3842-c836-47e8-af79-038e2bc400e8",
   "metadata": {},
   "outputs": [],
   "source": [
    "with open(\"scores_clpA_FW_con.pkl\", \"rb\") as file:\n",
    "    clp_FW_con = pickle.load(file)\n",
    "    \n",
    "with open(\"scores_clpA_RC_con.pkl\", \"rb\") as file:\n",
    "    clp_RC_con = pickle.load(file)\n",
    "\n",
    "\n",
    "with open(\"scores_proRS_FW_con.pkl\", \"rb\") as file:\n",
    "    pro_FW_con = pickle.load(file)\n",
    "    \n",
    "with open(\"scores_proRS_RC_con.pkl\", \"rb\") as file:\n",
    "    pro_RC_con = pickle.load(file)"
   ]
  },
  {
   "cell_type": "code",
   "execution_count": null,
   "id": "a1eb98ce-f3eb-4694-b34b-3c8a82455d29",
   "metadata": {},
   "outputs": [],
   "source": [
    "meta={}\n",
    "meta_fl={}\n",
    "counter=0\n",
    "for i in range(20):\n",
    "    for j in range(20):\n",
    "        meta[counter]=(i,j)\n",
    "        meta_fl[(i,j)]=counter\n",
    "        counter+=1"
   ]
  },
  {
   "cell_type": "code",
   "execution_count": null,
   "id": "ca8d40a6-b1f6-455c-88e6-5e2cecaa9f4d",
   "metadata": {},
   "outputs": [],
   "source": [
    "c_l=[10,50,100,200,300,400,500,600,700,800,900,1000,1100,1200]"
   ]
  },
  {
   "cell_type": "code",
   "execution_count": null,
   "id": "f5db8200-694a-4b6f-b6a0-56c337ad417b",
   "metadata": {},
   "outputs": [],
   "source": [
    "def create_collections(sc,cl,coord_ind,length=20,rem=400):\n",
    "    '''\n",
    "    structure of the output:\n",
    "    context: {(ind1,ind2):[real,constructed]}\n",
    "    '''\n",
    "    col={}\n",
    "    for c in range(len(cl)):\n",
    "        col[cl[c]]={}\n",
    "        for l in range(length):\n",
    "            for ll in range(length):\n",
    "                if l!=ll:\n",
    "                    real=sc[c][coord_ind[(l,l)]]\n",
    "                    con=sc[c][coord_ind[(l,ll)]]\n",
    "                    if (len(real)==rem+cl[c]) and (len(con)==rem+cl[c]):\n",
    "                        col[cl[c]][(l,ll)]=[real,con]\n",
    "\n",
    "    return col"
   ]
  },
  {
   "cell_type": "code",
   "execution_count": null,
   "id": "ab8ce45d-cdca-4526-adee-7a31985fe7ca",
   "metadata": {},
   "outputs": [],
   "source": [
    "def get_results_FW(cc,coll):\n",
    "    res={\n",
    "        \"id\":[],\n",
    "        \"full\":[], \"full_n\":[], \"tail\":[], \"tail_n\":[], \"tail_50\":[],\"tail_50_n\":[],\n",
    "        \"tail_100\":[],\"tail_100_n\":[], \"tail_150\":[], \"tail_150_n\":[],\n",
    "        \"tail_200\":[],\"tail_200_n\":[],\"tail_250\":[],\"tail_250_n\":[]\n",
    "    }\n",
    "    sc=[50,100,150,200,250]\n",
    "    \n",
    "    for i in coll.keys():\n",
    "        res[\"id\"].append(i)\n",
    "        r=math.exp(np.mean(np.log(coll[i][0])))\n",
    "        c=math.exp(np.mean(np.log(coll[i][1])))\n",
    "        res[\"full\"].append(r>c)\n",
    "        res[\"full_n\"].append(abs(r-c))\n",
    "\n",
    "        r=math.exp(np.mean(np.log(coll[i][0][cc:])))\n",
    "        c=math.exp(np.mean(np.log(coll[i][1][cc:])))\n",
    "        res[\"tail\"].append(r>c)\n",
    "        res[\"tail_n\"].append(abs(r-c))\n",
    "        \n",
    "        for s in sc:\n",
    "            r=math.exp(np.mean(np.log(coll[i][0][cc:cc+s])))\n",
    "            c=math.exp(np.mean(np.log(coll[i][1][cc:cc+s])))\n",
    "            res[\"tail_\"+str(s)].append(r>c)\n",
    "            res[\"tail_\"+str(s)+\"_n\"].append(abs(r-c))\n",
    "            \n",
    "    res_overview={}\n",
    "    res_overview[\"full\"]=(res[\"full\"].count(True)/len(res[\"id\"]),res[\"full\"].count(True),len(res[\"id\"]))\n",
    "    res_overview[\"tail\"]=(res[\"tail\"].count(True)/len(res[\"id\"]),res[\"tail\"].count(True),len(res[\"id\"]))\n",
    "    for s in sc:\n",
    "        res_overview[\"tail_\"+str(s)]=(res[\"tail_\"+str(s)].count(True)/len(res[\"id\"]),res[\"tail_\"+str(s)].count(True),len(res[\"id\"]))\n",
    "\n",
    "    return {\"overview\":res_overview,\"full\":res}"
   ]
  },
  {
   "cell_type": "code",
   "execution_count": null,
   "id": "599a508e-b74b-42ee-9d0e-b995098f66ff",
   "metadata": {},
   "outputs": [],
   "source": [
    "def get_results_RC(cc,coll):\n",
    "    res={\n",
    "        \"id\":[],\n",
    "        \"head\":[], \"head_n\":[], \"head_50\":[],\"head_50_n\":[],\n",
    "        \"head_100\":[],\"head_100_n\":[], \"head_150\":[], \"head_150_n\":[],\n",
    "        \"head_200\":[],\"head_200_n\":[],\"head_250\":[],\"head_250_n\":[]\n",
    "    }\n",
    "    sc=[50,100,150,200,250]\n",
    "    \n",
    "    for i in coll.keys():\n",
    "        res[\"id\"].append(i)\n",
    "\n",
    "        r=math.exp(np.mean(np.log(coll[i][0][:-cc])))\n",
    "        c=math.exp(np.mean(np.log(coll[i][1][:-cc])))\n",
    "        res[\"head\"].append(r>c)\n",
    "        res[\"head_n\"].append(abs(r-c))\n",
    "        \n",
    "        for s in sc:\n",
    "            r=math.exp(np.mean(np.log(coll[i][0][-cc-s:-cc])))\n",
    "            c=math.exp(np.mean(np.log(coll[i][1][-cc-s:-cc])))\n",
    "            res[\"head_\"+str(s)].append(r>c)\n",
    "            res[\"head_\"+str(s)+\"_n\"].append(abs(r-c))\n",
    "            \n",
    "    res_overview={}\n",
    "    res_overview[\"head\"]=(res[\"head\"].count(True)/len(res[\"id\"]),res[\"head\"].count(True),len(res[\"id\"]))\n",
    "    for s in sc:\n",
    "        res_overview[\"head_\"+str(s)]=(res[\"head_\"+str(s)].count(True)/len(res[\"id\"]),res[\"head_\"+str(s)].count(True),len(res[\"id\"]))\n",
    "\n",
    "    return {\"overview\":res_overview,\"full\":res}"
   ]
  },
  {
   "cell_type": "code",
   "execution_count": null,
   "id": "a2887ecc-84a1-4742-805b-16f4d39e9861",
   "metadata": {},
   "outputs": [],
   "source": [
    "def get_results_tag(scores,cl,tag,coord_ind):\n",
    "    '''\n",
    "    results structure\n",
    "    context:{overview:(%,#,total),\"full\":dict df style}\n",
    "    '''\n",
    "    collection=create_collections(scores,cl,coord_ind)\n",
    "    results={}\n",
    "    for c in cl:\n",
    "        if tag==\"FW\":\n",
    "            results[c]=get_results_FW(c,collection[c])\n",
    "        else:\n",
    "            results[c]=get_results_RC(c,collection[c])\n",
    "    return results"
   ]
  },
  {
   "cell_type": "code",
   "execution_count": null,
   "id": "5ffc3b1c-af8c-43da-9ac7-c6f9b86eb32b",
   "metadata": {},
   "outputs": [],
   "source": [
    "results_clp_FW=get_results_tag(clp_FW_con,c_l,\"FW\",meta_fl)\n",
    "results_clp_RC=get_results_tag(clp_RC_con,c_l,\"RC\",meta_fl)\n",
    "results_pro_FW=get_results_tag(pro_FW_con,c_l[:-3],\"FW\",meta_fl)\n",
    "results_pro_RC=get_results_tag(pro_RC_con,c_l[:-4],\"RC\",meta_fl)"
   ]
  },
  {
   "cell_type": "code",
   "execution_count": null,
   "id": "398ba57c-71c5-441f-baee-1c75771d5cb8",
   "metadata": {},
   "outputs": [],
   "source": [
    "def extract_and_combine(res1,res2):\n",
    "    '''\n",
    "    len(res1.keys())>=len(res2.keys())\n",
    "    output structure\n",
    "    method:[accuracy at c1, accuracy at c2, ...]\n",
    "    '''\n",
    "    methods=list(res1[list(res1.keys())[0]][\"overview\"].keys())\n",
    "    output={m: [] for m in methods}\n",
    "    for i in res1.keys():\n",
    "        for m in methods:\n",
    "            cor=res1[i][\"overview\"][m][1]\n",
    "            tot=res1[i][\"overview\"][m][2]\n",
    "            if i in res2.keys():\n",
    "                cor+=res2[i][\"overview\"][m][1]\n",
    "                tot+=res2[i][\"overview\"][m][2]\n",
    "            output[m].append(cor/tot)\n",
    "    return output      "
   ]
  },
  {
   "cell_type": "code",
   "execution_count": null,
   "id": "61357da8-8af4-490c-8cdc-0f3824a4bcc8",
   "metadata": {},
   "outputs": [],
   "source": [
    "FW=extract_and_combine(results_clp_FW,results_pro_FW)\n",
    "RC=extract_and_combine(results_clp_RC,results_pro_RC)"
   ]
  },
  {
   "cell_type": "code",
   "execution_count": null,
   "id": "633aa226-8684-4dea-81e2-cbf07d6c7a73",
   "metadata": {},
   "outputs": [],
   "source": [
    "plt.figure(figsize=(8, 5))\n",
    "plt.plot(c_l, FW[\"full\"], label='Default Method', color=color1,linewidth=2)\n",
    "plt.plot(c_l, FW[\"tail_200\"], label='Forward Comparison (200 bp)', color=color2,linewidth=2)\n",
    "plt.xlabel('Base pairs of Genomic Context Upstream of the Cutsite')  # Replace with your x-axis label\n",
    "plt.ylabel('Accuracy')  # Replace with your y-axis label\n",
    "plt.legend()\n",
    "plt.show()"
   ]
  },
  {
   "cell_type": "code",
   "execution_count": null,
   "id": "e69c9ce1-783d-4a7b-b7f3-289c28f8040f",
   "metadata": {},
   "outputs": [],
   "source": [
    "plt.figure(figsize=(8, 5))\n",
    "plt.plot(c_l, RC[\"head_200\"], label='Reverse Comparison (200 bp)', color=color3,linewidth=2)\n",
    "plt.plot(c_l, RC[\"head\"], label='Reverse Comparison (400 bp)', color=color4,linewidth=2)\n",
    "plt.xlabel('Base pairs of Genomic Context Downstream from the Cutsite')  # Replace with your x-axis label\n",
    "plt.ylabel('Accuracy')  # Replace with your y-axis label\n",
    "plt.legend()\n",
    "plt.show()"
   ]
  }
 ],
 "metadata": {
  "kernelspec": {
   "display_name": "Python 3 (ipykernel)",
   "language": "python",
   "name": "python3"
  },
  "language_info": {
   "codemirror_mode": {
    "name": "ipython",
    "version": 3
   },
   "file_extension": ".py",
   "mimetype": "text/x-python",
   "name": "python",
   "nbconvert_exporter": "python",
   "pygments_lexer": "ipython3",
   "version": "3.10.12"
  }
 },
 "nbformat": 4,
 "nbformat_minor": 5
}
