{
 "cells": [
  {
   "cell_type": "code",
   "execution_count": null,
   "id": "963af9d4-37fa-4de7-b3b9-fff6c8696439",
   "metadata": {},
   "outputs": [],
   "source": [
    "%load_ext autoreload\n",
    "%autoreload 2"
   ]
  },
  {
   "cell_type": "code",
   "execution_count": null,
   "id": "9e6759e9-c4ac-4411-87d9-bd48c1a5aae7",
   "metadata": {},
   "outputs": [],
   "source": [
    "from Bio import SeqIO\n",
    "from Bio.Seq import Seq\n",
    "import pandas as pd\n",
    "import numpy as np\n",
    "import random\n",
    "import torch\n",
    "import pickle\n",
    "import math\n",
    "from evo import Evo, positional_entropies\n",
    "from evo.scoring import prepare_batch, score_sequences\n",
    "from tqdm import tqdm\n",
    "from generating_utils import perposition_scores, remove_gaps, complement_5_strand\n",
    "from analysis_utils import read_fasta"
   ]
  },
  {
   "cell_type": "code",
   "execution_count": null,
   "id": "1699aa0e-4a39-465b-aa69-51d62df88760",
   "metadata": {},
   "outputs": [],
   "source": [
    "'''\n",
    "This notebook is used to generate data for the analysis\n",
    "\n",
    "'''"
   ]
  },
  {
   "cell_type": "markdown",
   "id": "2744e5d2-0e90-4757-a9d5-5ec79782767e",
   "metadata": {},
   "source": [
    "# Set up"
   ]
  },
  {
   "cell_type": "code",
   "execution_count": null,
   "id": "7df1beeb-edd4-4edf-88c5-c748d4519be4",
   "metadata": {},
   "outputs": [],
   "source": [
    "filename='path to EColiK12.gbff'\n",
    "record = SeqIO.read(filename, \"genbank\")\n",
    "genome_coli=record.seq\n",
    "filename='path to BacSub.gbff'\n",
    "record = SeqIO.read(filename, \"genbank\")\n",
    "genome_sub=record.seq\n",
    "filename='path to AE006468.gb'\n",
    "record = SeqIO.read(filename, \"genbank\")\n",
    "genome_nella=record.seq"
   ]
  },
  {
   "cell_type": "code",
   "execution_count": null,
   "id": "cdfe7c80-c8f1-4385-977e-5aa55bfc49bc",
   "metadata": {},
   "outputs": [],
   "source": [
    "device = 'cuda:0'\n",
    "seed = 42\n",
    "torch.manual_seed(seed)\n",
    "np.random.seed(seed)\n",
    "random.seed(seed)\n",
    "\n",
    "\n",
    "evo_model = Evo('evo-1-131k-base')\n",
    "\n",
    "model, tokenizer = evo_model.model, evo_model.tokenizer\n",
    "model.to(device) \n",
    "model.eval()\n",
    "dnp=True"
   ]
  },
  {
   "cell_type": "code",
   "execution_count": null,
   "id": "8c98397d-05b4-48e1-8b1c-9ec863f1b52c",
   "metadata": {},
   "outputs": [],
   "source": [
    "'''\n",
    "* the code that was used to generate metadata is found in gen_metadata script\n",
    "* metadata is available in the data file\n",
    "'''"
   ]
  },
  {
   "cell_type": "code",
   "execution_count": null,
   "id": "11fffc68-dc60-498d-95f0-1cda05fc0986",
   "metadata": {},
   "outputs": [],
   "source": [
    "ht_meta=pd.read_csv(\"path to metadata_10bp_ht.csv\")\n",
    "sequence_meta=pd.read_csv(\"path to metadata_10bp_seqs.csv\")"
   ]
  },
  {
   "cell_type": "code",
   "execution_count": null,
   "id": "b9ab67ba-f922-48a5-8d33-4400730f5e32",
   "metadata": {},
   "outputs": [],
   "source": [
    "ht_meta_2=pd.read_csv(\"path to metadata_2_10bp_ht.csv\")\n",
    "sequence_meta_2=pd.read_csv(\"path to metadata_2_10bp_seqs.csv\")"
   ]
  },
  {
   "cell_type": "code",
   "execution_count": null,
   "id": "e5015333-e25c-4f6a-addb-3a16abf2c759",
   "metadata": {},
   "outputs": [],
   "source": [
    "tails={}\n",
    "heads={}\n",
    "genomes={\"coli\":genome_coli, \"sub\":genome_sub, \"nella\":genome_nella}\n",
    "for i in range(len(ht_meta)):\n",
    "    k=ht_meta.iloc[i][\"coordinate\"]\n",
    "    tails[(ht_meta.iloc[i][\"Intersection\"],k)]=genomes[ht_meta.iloc[i][\"organism\"]][k+10:k+510]\n",
    "    heads[(ht_meta.iloc[i][\"Intersection\"],k)]=genomes[ht_meta.iloc[i][\"organism\"]][k-990:k+10]"
   ]
  },
  {
   "cell_type": "code",
   "execution_count": null,
   "id": "b189dbe2-73e0-46c2-91c6-5a46d0ebbba9",
   "metadata": {},
   "outputs": [],
   "source": [
    "tails_2={}\n",
    "heads_2={}\n",
    "genomes={\"coli\":genome_coli, \"sub\":genome_sub, \"nella\":genome_nella}\n",
    "for i in range(len(ht_meta_2)):\n",
    "    k=ht_meta_2.iloc[i][\"coordinate\"]\n",
    "    tails_2[(ht_meta_2.iloc[i][\"Intersection\"],k)]=genomes[ht_meta_2.iloc[i][\"organism\"]][k+10:k+510]\n",
    "    heads_2[(ht_meta_2.iloc[i][\"Intersection\"],k)]=genomes[ht_meta_2.iloc[i][\"organism\"]][k-990:k+10]"
   ]
  },
  {
   "cell_type": "markdown",
   "id": "0c4f1ebc-9302-472c-9c82-dc21d5cf8e7e",
   "metadata": {},
   "source": [
    "# Functions"
   ]
  },
  {
   "cell_type": "code",
   "execution_count": null,
   "id": "6e8cec8d-0c24-454d-9f02-9260e690c31c",
   "metadata": {},
   "outputs": [],
   "source": [
    "def generate_dataset(seq_meta, h_dict, t_dict, model, tokenizer, device):\n",
    "    c10set=[]\n",
    "    for i in tqdm(range(len(seq_meta)), desc=\"Processing tasks\", unit=\"task\"):\n",
    "        inter=seq_meta.iloc[i][\"Intersection\"]\n",
    "        head=seq_meta.iloc[i][\"head\"]\n",
    "        tail=seq_meta.iloc[i][\"tail\"]\n",
    "        seq=str(h_dict[(inter,head)])+str(t_dict[(inter,tail)])\n",
    "        seq_RC=complement_5_strand(seq)\n",
    "        sc_FW=perposition_scores([seq], model, tokenizer, device)[0]\n",
    "        sc_RC=perposition_scores([seq_RC], model, tokenizer, device)[0][::-1]\n",
    "        c10set.append([sc_FW,sc_RC])\n",
    "    return c10set  "
   ]
  },
  {
   "cell_type": "code",
   "execution_count": null,
   "id": "e3564b54-6da6-42cb-b490-082309074edc",
   "metadata": {},
   "outputs": [],
   "source": [
    "def generate_head_data(h_meta,h_dict, model, tokenizer, device):\n",
    "    c10heads=[]\n",
    "    for i in tqdm(range(len(h_meta)), desc=\"Processing tasks\", unit=\"task\"):\n",
    "        inter=seq_meta.iloc[i][\"Intersection\"]\n",
    "        head=seq_meta.iloc[i][\"coordinate\"]\n",
    "        seq=str(h_dict[(inter,head)])\n",
    "        sc_FW=perposition_scores([seq], model, tokenizer, device)[0]\n",
    "        c10heads.append(sc_FW)\n",
    "    return c10heads  "
   ]
  },
  {
   "cell_type": "code",
   "execution_count": null,
   "id": "2a3728f3-dfb8-4bd9-a6ae-51d3989ea354",
   "metadata": {},
   "outputs": [],
   "source": [
    "def generate_ortholog_data(aligned,alignedAA, model, tokenizer,device):\n",
    "    cuttingAA=len(alignedAA[0][\"sequence\"])//2\n",
    "    cutting=3*(cuttingAA)\n",
    "    scores=[]\n",
    "    for i in range(len(aligned)):\n",
    "        for j in range(1,len(aligned[i:])):\n",
    "            head_1=remove_gaps(aligned[i][\"sequence\"][:cutting])\n",
    "            head_2=remove_gaps(aligned[i+j][\"sequence\"][:cutting])\n",
    "            tail_1=remove_gaps(aligned[i][\"sequence\"][cutting:])\n",
    "            tail_2=remove_gaps(aligned[i+j][\"sequence\"][cutting:])\n",
    "\n",
    "            seqs=[head_1+tail_1,head_2+tail_2,head_1+tail_2,head_2+tail_1]\n",
    "            seq_RC=[complement_5_strand(s) for s in seqs]\n",
    "\n",
    "            head_1_lead_FW=[perposition_scores([seqs[0]], model, tokenizer, device)[0],perposition_scores([seqs[2]], model, tokenizer, device)[0]]\n",
    "            head_2_lead_FW=[perposition_scores([seqs[1]], model, tokenizer, device)[0],perposition_scores([seqs[3]], model, tokenizer, device)[0]]\n",
    "            \n",
    "            head_1_lead_RC=[perposition_scores([seq_RC[0]], model, tokenizer, device)[0][::-1],perposition_scores([seq_RC[2]], model, tokenizer, device)[0][::-1]]\n",
    "            head_2_lead_RC=[perposition_scores([seq_RC[1]], model, tokenizer, device)[0][::-1],perposition_scores([seq_RC[3]], model, tokenizer, device)[0][::-1]]\n",
    "            \n",
    "            scores.append([[head_1_lead_FW,head_1_lead_RC],[head_2_lead_FW,head_2_lead_RC]])\n",
    "\n",
    "    return scores\n",
    "            "
   ]
  },
  {
   "cell_type": "code",
   "execution_count": null,
   "id": "4ec4614f-0ede-4e77-8eeb-b683731ca024",
   "metadata": {},
   "outputs": [],
   "source": [
    "def generate_ortholog_heads(aligned,alignedAA, model, tokenizer,device):\n",
    "    cuttingAA=len(alignedAA[0][\"sequence\"])//2\n",
    "    cutting=3*(cuttingAA)\n",
    "    scores=[]\n",
    "    for i in range(len(aligned)):\n",
    "        head=remove_gaps(aligned[i][\"sequence\"][:cutting])\n",
    "        sc_FW=perposition_scores([head], model, tokenizer, device)[0]\n",
    "        scores.append(sc_FW)\n",
    "\n",
    "    return scores"
   ]
  },
  {
   "cell_type": "markdown",
   "id": "c88c799b-1d87-435a-821d-6b5644d9702b",
   "metadata": {},
   "source": [
    "# Application"
   ]
  },
  {
   "cell_type": "code",
   "execution_count": null,
   "id": "779a88ab-d7fd-4c9c-b051-bd205bc4ddb5",
   "metadata": {},
   "outputs": [],
   "source": [
    "c10=generate_dataset(sequence_meta, heads, tails, model, tokenizer, device)"
   ]
  },
  {
   "cell_type": "code",
   "execution_count": null,
   "id": "7e033426-a06c-4016-bc70-cb033ec948b9",
   "metadata": {},
   "outputs": [],
   "source": [
    "with open(\"scores_10bp_seqs_500.pkl\", \"wb\") as file:\n",
    "    pickle.dump(c10, file)"
   ]
  },
  {
   "cell_type": "code",
   "execution_count": null,
   "id": "4ae58fbb-1d07-4529-b17a-7654c9f7fc0f",
   "metadata": {},
   "outputs": [],
   "source": [
    "c10h=generate_head_data(ht_meta, heads, model, tokenizer, device)"
   ]
  },
  {
   "cell_type": "code",
   "execution_count": null,
   "id": "39e659e3-1b4d-44c8-a2e8-3de85dcb1b34",
   "metadata": {},
   "outputs": [],
   "source": [
    "with open(\"scores_10bp_heads.pkl\", \"wb\") as file:\n",
    "    pickle.dump(c10h, file)"
   ]
  },
  {
   "cell_type": "code",
   "execution_count": null,
   "id": "07faa152-5d03-489d-9ac6-c3f73b98352f",
   "metadata": {},
   "outputs": [],
   "source": [
    "c10_2=generate_dataset(sequence_meta_2, heads_2, tails_2, model, tokenizer, device)"
   ]
  },
  {
   "cell_type": "code",
   "execution_count": null,
   "id": "326827e0-7b95-4f1a-b6ca-389aa9c6b9d1",
   "metadata": {},
   "outputs": [],
   "source": [
    "with open(\"scores_10bp_seqs_500_2.pkl\", \"wb\") as file:\n",
    "    pickle.dump(c10_2, file)"
   ]
  },
  {
   "cell_type": "code",
   "execution_count": null,
   "id": "db73c1f4-978d-4de2-8f24-34b3df37a685",
   "metadata": {},
   "outputs": [],
   "source": [
    "c10h_2=generate_head_data(ht_meta_2, heads_2, model, tokenizer, device)"
   ]
  },
  {
   "cell_type": "code",
   "execution_count": null,
   "id": "794f4ba6-b4b9-4b9a-bbe5-607b092f692f",
   "metadata": {},
   "outputs": [],
   "source": [
    "with open(\"scores_10bp_heads_2.pkl\", \"wb\") as file:\n",
    "    pickle.dump(c10h_2, file)"
   ]
  },
  {
   "cell_type": "code",
   "execution_count": null,
   "id": "ee9ea2e8-e86c-4c44-b473-2b0fcf360241",
   "metadata": {},
   "outputs": [],
   "source": [
    "aligned_records=read_fasta(\"picked_clpA.txt\")\n",
    "aligned_aa=read_fasta(\"picked_clpA_prot.txt\")\n",
    "sc_clp=generate_ortholog_data(aligned_records,aligned_aa, model, tokenizer,device)\n",
    "head_clp=generate_ortholog_heads(aligned_records,aligned_aa, model, tokenizer,device)"
   ]
  },
  {
   "cell_type": "code",
   "execution_count": null,
   "id": "9c2bf59a-6ca6-4ab4-ba39-f18de19e4a87",
   "metadata": {},
   "outputs": [],
   "source": [
    "aligned_records=read_fasta(\"picked_proRS.txt\")\n",
    "aligned_aa=read_fasta(\"picked_prot_proRS.txt\")\n",
    "sc_pro=generate_ortholog_data(aligned_records,aligned_aa, model, tokenizer,device)\n",
    "head_pro=generate_ortholog_heads(aligned_records,aligned_aa, model, tokenizer,device)"
   ]
  },
  {
   "cell_type": "code",
   "execution_count": null,
   "id": "d2d6bb07-9f4d-49b0-9643-8d9959a85742",
   "metadata": {},
   "outputs": [],
   "source": [
    "# save all datasets to a pickle file\n",
    "with open(\"scores_clpA_seq.pkl\", \"wb\") as file:\n",
    "    pickle.dump(sc_clp, file)\n",
    "with open(\"scores_proRS_seq.pkl\", \"wb\") as file:\n",
    "    pickle.dump(sc_pro, file)\n",
    "    \n",
    "with open(\"scores_proRS_head.pkl\", \"wb\") as file:\n",
    "    pickle.dump(head_pro, file)    \n",
    "with open(\"scores_clpA_head.pkl\", \"wb\") as file:\n",
    "    pickle.dump(head_clp, file)"
   ]
  }
 ],
 "metadata": {
  "kernelspec": {
   "display_name": "Python 3 (ipykernel)",
   "language": "python",
   "name": "python3"
  },
  "language_info": {
   "codemirror_mode": {
    "name": "ipython",
    "version": 3
   },
   "file_extension": ".py",
   "mimetype": "text/x-python",
   "name": "python",
   "nbconvert_exporter": "python",
   "pygments_lexer": "ipython3",
   "version": "3.10.12"
  }
 },
 "nbformat": 4,
 "nbformat_minor": 5
}
